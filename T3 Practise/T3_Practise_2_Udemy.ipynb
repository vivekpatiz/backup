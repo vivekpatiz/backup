{
 "cells": [
  {
   "cell_type": "markdown",
   "id": "a13cd67b",
   "metadata": {},
   "source": [
    "# Data Preprocessing in Python"
   ]
  },
  {
   "cell_type": "markdown",
   "id": "73164e37",
   "metadata": {},
   "source": [
    "## Importing the libraries"
   ]
  },
  {
   "cell_type": "code",
   "execution_count": 286,
   "id": "7c151d9b",
   "metadata": {},
   "outputs": [],
   "source": [
    "import pandas as pd\n",
    "import numpy as np\n",
    "import matplotlib.pyplot as plt"
   ]
  },
  {
   "cell_type": "markdown",
   "id": "fcaae920",
   "metadata": {},
   "source": [
    "## Importing the datasets"
   ]
  },
  {
   "cell_type": "code",
   "execution_count": 287,
   "id": "0443621a",
   "metadata": {},
   "outputs": [
    {
     "data": {
      "text/html": [
       "<div>\n",
       "<style scoped>\n",
       "    .dataframe tbody tr th:only-of-type {\n",
       "        vertical-align: middle;\n",
       "    }\n",
       "\n",
       "    .dataframe tbody tr th {\n",
       "        vertical-align: top;\n",
       "    }\n",
       "\n",
       "    .dataframe thead th {\n",
       "        text-align: right;\n",
       "    }\n",
       "</style>\n",
       "<table border=\"1\" class=\"dataframe\">\n",
       "  <thead>\n",
       "    <tr style=\"text-align: right;\">\n",
       "      <th></th>\n",
       "      <th>cid</th>\n",
       "      <th>dayhours</th>\n",
       "      <th>price</th>\n",
       "      <th>room_bed</th>\n",
       "      <th>room_bath</th>\n",
       "      <th>gender</th>\n",
       "      <th>living_measure</th>\n",
       "      <th>lot_measure</th>\n",
       "      <th>ceil</th>\n",
       "      <th>coast</th>\n",
       "      <th>...</th>\n",
       "      <th>lat</th>\n",
       "      <th>long</th>\n",
       "      <th>living_measure15</th>\n",
       "      <th>lot_measure15</th>\n",
       "      <th>furnished</th>\n",
       "      <th>total_area</th>\n",
       "      <th>year</th>\n",
       "      <th>month</th>\n",
       "      <th>day</th>\n",
       "      <th>hour</th>\n",
       "    </tr>\n",
       "  </thead>\n",
       "  <tbody>\n",
       "    <tr>\n",
       "      <th>0</th>\n",
       "      <td>3876100940</td>\n",
       "      <td>2015-04-27</td>\n",
       "      <td>600000</td>\n",
       "      <td>4.0</td>\n",
       "      <td>1.75</td>\n",
       "      <td>Female</td>\n",
       "      <td>3050.0</td>\n",
       "      <td>9440.0</td>\n",
       "      <td>1</td>\n",
       "      <td>0</td>\n",
       "      <td>...</td>\n",
       "      <td>47.7228</td>\n",
       "      <td>-122.183</td>\n",
       "      <td>2020.0</td>\n",
       "      <td>8660.0</td>\n",
       "      <td>0.0</td>\n",
       "      <td>12490</td>\n",
       "      <td>2015</td>\n",
       "      <td>4</td>\n",
       "      <td>27</td>\n",
       "      <td>0</td>\n",
       "    </tr>\n",
       "    <tr>\n",
       "      <th>1</th>\n",
       "      <td>3145600250</td>\n",
       "      <td>2015-03-17</td>\n",
       "      <td>190000</td>\n",
       "      <td>2.0</td>\n",
       "      <td>1.00</td>\n",
       "      <td>Male</td>\n",
       "      <td>670.0</td>\n",
       "      <td>3101.0</td>\n",
       "      <td>1</td>\n",
       "      <td>0</td>\n",
       "      <td>...</td>\n",
       "      <td>47.5546</td>\n",
       "      <td>-122.274</td>\n",
       "      <td>1660.0</td>\n",
       "      <td>4100.0</td>\n",
       "      <td>0.0</td>\n",
       "      <td>3771</td>\n",
       "      <td>2015</td>\n",
       "      <td>3</td>\n",
       "      <td>17</td>\n",
       "      <td>0</td>\n",
       "    </tr>\n",
       "    <tr>\n",
       "      <th>2</th>\n",
       "      <td>7129303070</td>\n",
       "      <td>2014-08-20</td>\n",
       "      <td>735000</td>\n",
       "      <td>4.0</td>\n",
       "      <td>2.75</td>\n",
       "      <td>Female</td>\n",
       "      <td>3040.0</td>\n",
       "      <td>2415.0</td>\n",
       "      <td>2</td>\n",
       "      <td>1</td>\n",
       "      <td>...</td>\n",
       "      <td>47.5188</td>\n",
       "      <td>-122.256</td>\n",
       "      <td>2620.0</td>\n",
       "      <td>2433.0</td>\n",
       "      <td>0.0</td>\n",
       "      <td>5455</td>\n",
       "      <td>2014</td>\n",
       "      <td>8</td>\n",
       "      <td>20</td>\n",
       "      <td>0</td>\n",
       "    </tr>\n",
       "    <tr>\n",
       "      <th>3</th>\n",
       "      <td>7338220280</td>\n",
       "      <td>2014-10-10</td>\n",
       "      <td>257000</td>\n",
       "      <td>3.0</td>\n",
       "      <td>2.50</td>\n",
       "      <td>Male</td>\n",
       "      <td>1740.0</td>\n",
       "      <td>3721.0</td>\n",
       "      <td>2</td>\n",
       "      <td>0</td>\n",
       "      <td>...</td>\n",
       "      <td>47.3363</td>\n",
       "      <td>-122.213</td>\n",
       "      <td>2030.0</td>\n",
       "      <td>3794.0</td>\n",
       "      <td>0.0</td>\n",
       "      <td>5461</td>\n",
       "      <td>2014</td>\n",
       "      <td>10</td>\n",
       "      <td>10</td>\n",
       "      <td>0</td>\n",
       "    </tr>\n",
       "    <tr>\n",
       "      <th>4</th>\n",
       "      <td>7950300670</td>\n",
       "      <td>2015-02-18</td>\n",
       "      <td>450000</td>\n",
       "      <td>2.0</td>\n",
       "      <td>1.00</td>\n",
       "      <td>Female</td>\n",
       "      <td>1120.0</td>\n",
       "      <td>4590.0</td>\n",
       "      <td>1</td>\n",
       "      <td>0</td>\n",
       "      <td>...</td>\n",
       "      <td>47.5663</td>\n",
       "      <td>-122.285</td>\n",
       "      <td>1120.0</td>\n",
       "      <td>5100.0</td>\n",
       "      <td>0.0</td>\n",
       "      <td>5710</td>\n",
       "      <td>2015</td>\n",
       "      <td>2</td>\n",
       "      <td>18</td>\n",
       "      <td>0</td>\n",
       "    </tr>\n",
       "  </tbody>\n",
       "</table>\n",
       "<p>5 rows × 28 columns</p>\n",
       "</div>"
      ],
      "text/plain": [
       "          cid   dayhours   price  room_bed  room_bath  gender  living_measure  \\\n",
       "0  3876100940 2015-04-27  600000       4.0       1.75  Female          3050.0   \n",
       "1  3145600250 2015-03-17  190000       2.0       1.00    Male           670.0   \n",
       "2  7129303070 2014-08-20  735000       4.0       2.75  Female          3040.0   \n",
       "3  7338220280 2014-10-10  257000       3.0       2.50    Male          1740.0   \n",
       "4  7950300670 2015-02-18  450000       2.0       1.00  Female          1120.0   \n",
       "\n",
       "   lot_measure ceil coast  ...      lat     long  living_measure15  \\\n",
       "0       9440.0    1     0  ...  47.7228 -122.183            2020.0   \n",
       "1       3101.0    1     0  ...  47.5546 -122.274            1660.0   \n",
       "2       2415.0    2     1  ...  47.5188 -122.256            2620.0   \n",
       "3       3721.0    2     0  ...  47.3363 -122.213            2030.0   \n",
       "4       4590.0    1     0  ...  47.5663 -122.285            1120.0   \n",
       "\n",
       "   lot_measure15  furnished total_area  year  month  day hour  \n",
       "0         8660.0        0.0      12490  2015      4   27    0  \n",
       "1         4100.0        0.0       3771  2015      3   17    0  \n",
       "2         2433.0        0.0       5455  2014      8   20    0  \n",
       "3         3794.0        0.0       5461  2014     10   10    0  \n",
       "4         5100.0        0.0       5710  2015      2   18    0  \n",
       "\n",
       "[5 rows x 28 columns]"
      ]
     },
     "execution_count": 287,
     "metadata": {},
     "output_type": "execute_result"
    }
   ],
   "source": [
    "df = pd.read_excel('innercity.xlsx')\n",
    "df['dayhours'] = pd.to_datetime(df['dayhours'])\n",
    "df['year'] = df['dayhours'].dt.year\n",
    "df['month'] = df['dayhours'].dt.month\n",
    "df['day'] = df['dayhours'].dt.day\n",
    "df['hour'] = df['dayhours'].dt.hour\n",
    "categorical_mask = (df.dtypes == object) \n",
    "# df = df[~df.apply(lambda row: row.astype(str).str.contains('$',regex=False)).any(axis=1)]\n",
    "df.head()"
   ]
  },
  {
   "cell_type": "code",
   "execution_count": 288,
   "id": "30891465",
   "metadata": {
    "scrolled": false
   },
   "outputs": [
    {
     "name": "stdout",
     "output_type": "stream",
     "text": [
      "cid                   0\n",
      "dayhours              0\n",
      "price                 0\n",
      "room_bed            108\n",
      "room_bath           108\n",
      "gender                0\n",
      "living_measure       17\n",
      "lot_measure          42\n",
      "ceil                 42\n",
      "coast                 1\n",
      "sight                57\n",
      "condition            57\n",
      "quality               1\n",
      "ceil_measure          1\n",
      "basement              1\n",
      "yr_built              1\n",
      "yr_renovated          0\n",
      "zipcode               0\n",
      "lat                   0\n",
      "long                  0\n",
      "living_measure15    166\n",
      "lot_measure15        29\n",
      "furnished            29\n",
      "total_area           29\n",
      "year                  0\n",
      "month                 0\n",
      "day                   0\n",
      "hour                  0\n",
      "dtype: int64\n",
      "cid                  0\n",
      "dayhours             0\n",
      "price                0\n",
      "room_bed             0\n",
      "room_bath            0\n",
      "gender               0\n",
      "living_measure       0\n",
      "lot_measure          0\n",
      "ceil                42\n",
      "coast                1\n",
      "sight                0\n",
      "condition           57\n",
      "quality              0\n",
      "ceil_measure         0\n",
      "basement             0\n",
      "yr_built             1\n",
      "yr_renovated         0\n",
      "zipcode              0\n",
      "lat                  0\n",
      "long                 0\n",
      "living_measure15     0\n",
      "lot_measure15        0\n",
      "furnished            0\n",
      "total_area          29\n",
      "year                 0\n",
      "month                0\n",
      "day                  0\n",
      "hour                 0\n",
      "dtype: int64\n",
      "cid                  0\n",
      "dayhours             0\n",
      "price                0\n",
      "room_bed             0\n",
      "room_bath            0\n",
      "gender               0\n",
      "living_measure       0\n",
      "lot_measure          0\n",
      "ceil                42\n",
      "coast                1\n",
      "sight                0\n",
      "condition           57\n",
      "quality              0\n",
      "ceil_measure         0\n",
      "basement             0\n",
      "yr_built             1\n",
      "yr_renovated         0\n",
      "zipcode              0\n",
      "lat                  0\n",
      "long                 0\n",
      "living_measure15     0\n",
      "lot_measure15        0\n",
      "furnished            0\n",
      "total_area          29\n",
      "year                 0\n",
      "month                0\n",
      "day                  0\n",
      "hour                 0\n",
      "dtype: int64\n",
      "cid                 0\n",
      "dayhours            0\n",
      "price               0\n",
      "room_bed            0\n",
      "room_bath           0\n",
      "gender              0\n",
      "living_measure      0\n",
      "lot_measure         0\n",
      "ceil                0\n",
      "coast               0\n",
      "sight               0\n",
      "condition           0\n",
      "quality             0\n",
      "ceil_measure        0\n",
      "basement            0\n",
      "yr_built            0\n",
      "yr_renovated        0\n",
      "zipcode             0\n",
      "lat                 0\n",
      "long                0\n",
      "living_measure15    0\n",
      "lot_measure15       0\n",
      "furnished           0\n",
      "total_area          0\n",
      "year                0\n",
      "month               0\n",
      "day                 0\n",
      "hour                0\n",
      "dtype: int64\n"
     ]
    }
   ],
   "source": [
    "print(df.isnull().sum())\n",
    "df.fillna(df.mean(numeric_only=True), inplace=True)\n",
    "print(df.isnull().sum())\n",
    "\n",
    "numeric_columns = df.select_dtypes(include='number')\n",
    "df.fillna(numeric_columns.mean(), inplace=True)\n",
    "print(df.isnull().sum())\n",
    "\n",
    "df.dropna(inplace=True)\n",
    "print(df.isnull().sum())"
   ]
  },
  {
   "cell_type": "code",
   "execution_count": 289,
   "id": "cb3725bb",
   "metadata": {},
   "outputs": [
    {
     "name": "stdout",
     "output_type": "stream",
     "text": [
      "[4.0 1.75 'Female' 3050.0 9440.0 1 0 0.0 3 8.0 1800.0 1250.0 1966 0 98034\n",
      " 47.7228 -122.183 2020.0 8660.0 0.0 12490 2015 4 27 0]\n"
     ]
    }
   ],
   "source": [
    "x = df.iloc[:, (df.columns != 'price') & (df.columns != 'dayhours') & (df.columns != 'cid')].values\n",
    "print(x[0])"
   ]
  },
  {
   "cell_type": "code",
   "execution_count": 290,
   "id": "04f64d13",
   "metadata": {},
   "outputs": [
    {
     "name": "stdout",
     "output_type": "stream",
     "text": [
      "[[ 600000]\n",
      " [ 190000]\n",
      " [ 735000]\n",
      " ...\n",
      " [ 998000]\n",
      " [ 262000]\n",
      " [1150000]]\n"
     ]
    }
   ],
   "source": [
    "y = df.iloc[:, df.columns == 'price'].values\n",
    "print(y)"
   ]
  },
  {
   "cell_type": "markdown",
   "id": "b11fe26a",
   "metadata": {},
   "source": [
    "## Taking care of missng values"
   ]
  },
  {
   "cell_type": "code",
   "execution_count": 291,
   "id": "b75fb3de",
   "metadata": {},
   "outputs": [
    {
     "data": {
      "text/plain": [
       "cid                 0\n",
       "dayhours            0\n",
       "price               0\n",
       "room_bed            0\n",
       "room_bath           0\n",
       "gender              0\n",
       "living_measure      0\n",
       "lot_measure         0\n",
       "ceil                0\n",
       "coast               0\n",
       "sight               0\n",
       "condition           0\n",
       "quality             0\n",
       "ceil_measure        0\n",
       "basement            0\n",
       "yr_built            0\n",
       "yr_renovated        0\n",
       "zipcode             0\n",
       "lat                 0\n",
       "long                0\n",
       "living_measure15    0\n",
       "lot_measure15       0\n",
       "furnished           0\n",
       "total_area          0\n",
       "year                0\n",
       "month               0\n",
       "day                 0\n",
       "hour                0\n",
       "dtype: int64"
      ]
     },
     "execution_count": 291,
     "metadata": {},
     "output_type": "execute_result"
    }
   ],
   "source": [
    "df.isnull().sum()"
   ]
  },
  {
   "cell_type": "code",
   "execution_count": 292,
   "id": "af3ab929",
   "metadata": {},
   "outputs": [
    {
     "data": {
      "text/plain": [
       "cid                 0\n",
       "dayhours            0\n",
       "room_bed            0\n",
       "room_bath           0\n",
       "gender              0\n",
       "living_measure      0\n",
       "lot_measure         0\n",
       "ceil                0\n",
       "coast               0\n",
       "sight               0\n",
       "condition           0\n",
       "quality             0\n",
       "ceil_measure        0\n",
       "basement            0\n",
       "yr_built            0\n",
       "yr_renovated        0\n",
       "zipcode             0\n",
       "lat                 0\n",
       "long                0\n",
       "living_measure15    0\n",
       "lot_measure15       0\n",
       "furnished           0\n",
       "total_area          0\n",
       "year                0\n",
       "month               0\n",
       "day                 0\n",
       "hour                0\n",
       "dtype: int64"
      ]
     },
     "execution_count": 292,
     "metadata": {},
     "output_type": "execute_result"
    }
   ],
   "source": [
    "check_nan = df.iloc[:, df.columns != 'price']\n",
    "check_nan.isnull().sum()"
   ]
  },
  {
   "cell_type": "code",
   "execution_count": 293,
   "id": "800a73ec",
   "metadata": {
    "scrolled": false
   },
   "outputs": [],
   "source": [
    "from sklearn.impute import SimpleImputer\n",
    "ct = SimpleImputer(strategy = 'mean')\n",
    "ct.fit(x[:, 0:2])\n",
    "x[:, 0:2] = ct.transform(x[:, 0:2])"
   ]
  },
  {
   "cell_type": "code",
   "execution_count": 294,
   "id": "b79a4004",
   "metadata": {},
   "outputs": [
    {
     "data": {
      "text/plain": [
       "array([4.0, 1.75, 'Female', 3050.0, 9440.0, 1, 0, 0.0, 3, 8.0, 1800.0,\n",
       "       1250.0, 1966, 0, 98034, 47.7228, -122.183, 2020.0, 8660.0, 0.0,\n",
       "       12490, 2015, 4, 27, 0], dtype=object)"
      ]
     },
     "execution_count": 294,
     "metadata": {},
     "output_type": "execute_result"
    }
   ],
   "source": [
    "x[0]"
   ]
  },
  {
   "cell_type": "code",
   "execution_count": 295,
   "id": "6fa6001d",
   "metadata": {
    "scrolled": false
   },
   "outputs": [],
   "source": [
    "x[x == '$'] = '0'"
   ]
  },
  {
   "cell_type": "code",
   "execution_count": 296,
   "id": "f47d4328",
   "metadata": {},
   "outputs": [],
   "source": [
    "ct.fit(x[:, 6:])\n",
    "x[:, 6:] = ct.transform(x[:, 6:])"
   ]
  },
  {
   "cell_type": "markdown",
   "id": "98f5beb7",
   "metadata": {},
   "source": [
    "## Encoding the categorical Value"
   ]
  },
  {
   "cell_type": "markdown",
   "id": "2d77595c",
   "metadata": {},
   "source": [
    "## Encoding the Independent Variable"
   ]
  },
  {
   "cell_type": "code",
   "execution_count": 297,
   "id": "65271ad8",
   "metadata": {},
   "outputs": [],
   "source": [
    "x[x == 'Female'] = 0\n",
    "x[x == 'Male'] = 1"
   ]
  },
  {
   "cell_type": "code",
   "execution_count": 298,
   "id": "69d494e2",
   "metadata": {},
   "outputs": [],
   "source": [
    "# from sklearn.compose import ColumnTransformer\n",
    "# from sklearn.preprocessing import OneHotEncoder\n",
    "# ct = ColumnTransformer(transformers = [('encoder', OneHotEncoder(),categorical_mask )], remainder = 'passthrough')\n",
    "# x_encoded = ct.fit_transform(x)\n",
    "# x = np.array(ct.fit_transform(x))\n",
    "# x_encoded"
   ]
  },
  {
   "cell_type": "code",
   "execution_count": 299,
   "id": "f1db8ad0",
   "metadata": {},
   "outputs": [
    {
     "data": {
      "text/plain": [
       "array([4.0, 1.75, 0, 3050.0, 9440.0, 1, 0.0, 0.0, 3.0, 8.0, 1800.0,\n",
       "       1250.0, 1966.0, 0.0, 98034.0, 47.7228, -122.183, 2020.0, 8660.0,\n",
       "       0.0, 12490.0, 2015.0, 4.0, 27.0, 0.0], dtype=object)"
      ]
     },
     "execution_count": 299,
     "metadata": {},
     "output_type": "execute_result"
    }
   ],
   "source": [
    "x[0]"
   ]
  },
  {
   "cell_type": "markdown",
   "id": "27958861",
   "metadata": {},
   "source": [
    "## Splitting the dataset into the training set and testing set"
   ]
  },
  {
   "cell_type": "code",
   "execution_count": 300,
   "id": "446683c8",
   "metadata": {},
   "outputs": [],
   "source": [
    "from sklearn.model_selection import train_test_split\n",
    "x_train, x_test, y_train, y_test = train_test_split(x,y, test_size=0.2, random_state =1)"
   ]
  },
  {
   "cell_type": "code",
   "execution_count": 301,
   "id": "048ea2de",
   "metadata": {},
   "outputs": [
    {
     "data": {
      "text/plain": [
       "array([[3.0, 3.0, 1, ..., 11.0, 20.0, 0.0],\n",
       "       [5.0, 3.0, 1, ..., 9.0, 9.0, 0.0],\n",
       "       [3.0, 2.75, 0, ..., 3.0, 16.0, 0.0],\n",
       "       ...,\n",
       "       [4.0, 1.75, 1, ..., 12.0, 12.0, 0.0],\n",
       "       [4.0, 2.0, 1, ..., 6.0, 24.0, 0.0],\n",
       "       [4.0, 1.75, 1, ..., 5.0, 30.0, 0.0]], dtype=object)"
      ]
     },
     "execution_count": 301,
     "metadata": {},
     "output_type": "execute_result"
    }
   ],
   "source": [
    "x_train"
   ]
  },
  {
   "cell_type": "code",
   "execution_count": 302,
   "id": "389e0a87",
   "metadata": {},
   "outputs": [
    {
     "data": {
      "text/plain": [
       "array([[4.0, 2.5, 0, ..., 8.0, 25.0, 0.0],\n",
       "       [3.0, 2.5, 0, ..., 4.0, 8.0, 0.0],\n",
       "       [4.0, 2.0, 0, ..., 11.0, 17.0, 0.0],\n",
       "       ...,\n",
       "       [2.0, 1.75, 1, ..., 5.0, 5.0, 0.0],\n",
       "       [3.0, 2.75, 0, ..., 12.0, 26.0, 0.0],\n",
       "       [3.0, 2.5, 0, ..., 6.0, 9.0, 0.0]], dtype=object)"
      ]
     },
     "execution_count": 302,
     "metadata": {},
     "output_type": "execute_result"
    }
   ],
   "source": [
    "x_test"
   ]
  },
  {
   "cell_type": "code",
   "execution_count": 303,
   "id": "b8bfc687",
   "metadata": {},
   "outputs": [
    {
     "data": {
      "text/plain": [
       "array([[ 649500],\n",
       "       [ 559900],\n",
       "       [1070000],\n",
       "       ...,\n",
       "       [ 289950],\n",
       "       [ 339000],\n",
       "       [ 715000]], dtype=int64)"
      ]
     },
     "execution_count": 303,
     "metadata": {},
     "output_type": "execute_result"
    }
   ],
   "source": [
    "y_train"
   ]
  },
  {
   "cell_type": "code",
   "execution_count": 304,
   "id": "a1ffe612",
   "metadata": {},
   "outputs": [
    {
     "data": {
      "text/plain": [
       "array([[ 530000],\n",
       "       [1010000],\n",
       "       [ 295000],\n",
       "       ...,\n",
       "       [ 276200],\n",
       "       [ 473000],\n",
       "       [1150000]], dtype=int64)"
      ]
     },
     "execution_count": 304,
     "metadata": {},
     "output_type": "execute_result"
    }
   ],
   "source": [
    "y_test"
   ]
  },
  {
   "cell_type": "markdown",
   "id": "9b05b491",
   "metadata": {},
   "source": [
    "## Feature Scaling"
   ]
  },
  {
   "cell_type": "code",
   "execution_count": 305,
   "id": "cb0c4177",
   "metadata": {},
   "outputs": [],
   "source": [
    "from sklearn.preprocessing import StandardScaler\n",
    "sc = StandardScaler()\n",
    "x_train[:,:] = sc.fit_transform(x_train[:,:])\n",
    "x_test[:,:] = sc.fit_transform(x_test[:,:])"
   ]
  },
  {
   "cell_type": "code",
   "execution_count": 306,
   "id": "51ca45b2",
   "metadata": {},
   "outputs": [
    {
     "data": {
      "text/plain": [
       "array([[-0.4141697560857475, 1.1466704029717916, 1.536117176922452, ...,\n",
       "        1.4162344333243995, 0.4959457004242489, 0.0],\n",
       "       [1.7988625150975472, 1.1466704029717916, 1.536117176922452, ...,\n",
       "        0.7748390538982881, -0.7765645345943011, 0.0],\n",
       "       [-0.4141697560857475, 0.8225998266238329, -0.6509920044015296,\n",
       "        ..., -1.1493470843800457, 0.033214705872048916, 0.0],\n",
       "       ...,\n",
       "       [0.6923463795058998, -0.4736824787680018, 1.536117176922452, ...,\n",
       "        1.736932123037455, -0.42951628868015107, 0.0],\n",
       "       [0.6923463795058998, -0.14961190242004313, 1.536117176922452, ...,\n",
       "        -0.18725401524087879, 0.9586766949764489, 0.0],\n",
       "       [0.6923463795058998, -0.4736824787680018, 1.536117176922452, ...,\n",
       "        -0.5079517049539345, 1.6527731868047488, 0.0]], dtype=object)"
      ]
     },
     "execution_count": 306,
     "metadata": {},
     "output_type": "execute_result"
    }
   ],
   "source": [
    "x_train"
   ]
  },
  {
   "cell_type": "code",
   "execution_count": 307,
   "id": "8124c3fe",
   "metadata": {},
   "outputs": [
    {
     "data": {
      "text/plain": [
       "array([[0.6293226062333607, 0.512947906291363, -0.6443697545965218, ...,\n",
       "        0.47392343413260873, 1.0958065744382937, 0.0],\n",
       "       [-0.3501700222802705, 0.512947906291363, -0.6443697545965218, ...,\n",
       "        -0.8132316495337115, -0.8850005101936641, 0.0],\n",
       "       [0.6293226062333607, -0.14976549848559273, -0.6443697545965218,\n",
       "        ..., 1.439289746882349, 0.16366206402325473, 0.0],\n",
       "       ...,\n",
       "       [-1.3296626507939018, -0.4811222008740706, 1.5519040005627571,\n",
       "        ..., -0.4914428786171315, -1.2345547015993037, 0.0],\n",
       "       [-0.3501700222802705, 0.8443046086798409, -0.6443697545965218,\n",
       "        ..., 1.761078517798929, 1.2123246382401736, 0.0],\n",
       "       [-0.3501700222802705, 0.512947906291363, -0.6443697545965218, ...,\n",
       "        -0.16965410770055142, -0.7684824463917842, 0.0]], dtype=object)"
      ]
     },
     "execution_count": 307,
     "metadata": {},
     "output_type": "execute_result"
    }
   ],
   "source": [
    "x_test"
   ]
  },
  {
   "cell_type": "code",
   "execution_count": 308,
   "id": "f5e68a39",
   "metadata": {},
   "outputs": [
    {
     "data": {
      "text/plain": [
       "LinearRegression()"
      ]
     },
     "execution_count": 308,
     "metadata": {},
     "output_type": "execute_result"
    }
   ],
   "source": [
    "from sklearn.linear_model import LinearRegression\n",
    "regressor = LinearRegression()\n",
    "regressor.fit(x_train,y_train)"
   ]
  },
  {
   "cell_type": "code",
   "execution_count": 309,
   "id": "4d56b61c",
   "metadata": {},
   "outputs": [],
   "source": [
    "rf_predictions = regressor.predict(x_test)"
   ]
  },
  {
   "cell_type": "code",
   "execution_count": 310,
   "id": "7d88da88",
   "metadata": {},
   "outputs": [
    {
     "data": {
      "text/plain": [
       "0.651054679367552"
      ]
     },
     "execution_count": 310,
     "metadata": {},
     "output_type": "execute_result"
    }
   ],
   "source": [
    "regressor.score(x_test,y_test)"
   ]
  },
  {
   "cell_type": "code",
   "execution_count": null,
   "id": "6752392c",
   "metadata": {},
   "outputs": [],
   "source": []
  },
  {
   "cell_type": "code",
   "execution_count": null,
   "id": "313d8cb0",
   "metadata": {},
   "outputs": [],
   "source": []
  },
  {
   "cell_type": "code",
   "execution_count": null,
   "id": "8bf0057e",
   "metadata": {},
   "outputs": [],
   "source": []
  },
  {
   "cell_type": "code",
   "execution_count": null,
   "id": "fc3eee8c",
   "metadata": {},
   "outputs": [],
   "source": []
  },
  {
   "cell_type": "code",
   "execution_count": null,
   "id": "60b0feba",
   "metadata": {},
   "outputs": [],
   "source": []
  },
  {
   "cell_type": "code",
   "execution_count": null,
   "id": "3ff4d665",
   "metadata": {},
   "outputs": [],
   "source": []
  },
  {
   "cell_type": "code",
   "execution_count": null,
   "id": "a21e0d21",
   "metadata": {},
   "outputs": [],
   "source": []
  },
  {
   "cell_type": "code",
   "execution_count": null,
   "id": "c6a78490",
   "metadata": {},
   "outputs": [],
   "source": []
  },
  {
   "cell_type": "code",
   "execution_count": null,
   "id": "f0b2e269",
   "metadata": {},
   "outputs": [],
   "source": []
  }
 ],
 "metadata": {
  "kernelspec": {
   "display_name": "Python 3 (ipykernel)",
   "language": "python",
   "name": "python3"
  },
  "language_info": {
   "codemirror_mode": {
    "name": "ipython",
    "version": 3
   },
   "file_extension": ".py",
   "mimetype": "text/x-python",
   "name": "python",
   "nbconvert_exporter": "python",
   "pygments_lexer": "ipython3",
   "version": "3.9.13"
  }
 },
 "nbformat": 4,
 "nbformat_minor": 5
}
