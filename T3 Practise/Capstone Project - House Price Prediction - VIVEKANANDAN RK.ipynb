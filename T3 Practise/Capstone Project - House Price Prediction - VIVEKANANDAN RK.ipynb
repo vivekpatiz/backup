{
 "cells": [
  {
   "cell_type": "code",
   "execution_count": 1,
   "id": "4424112a",
   "metadata": {},
   "outputs": [],
   "source": [
    "import pandas as pd\n",
    "import numpy as np\n",
    "import matplotlib.pyplot as plt\n",
    "import seaborn as sns\n",
    "from sklearn.model_selection import train_test_split\n",
    "from sklearn.linear_model import LinearRegression\n",
    "from sklearn.metrics import mean_squared_error, r2_score\n",
    "from sklearn.svm import SVR"
   ]
  },
  {
   "cell_type": "code",
   "execution_count": 2,
   "id": "e6868dea",
   "metadata": {},
   "outputs": [
    {
     "data": {
      "text/html": [
       "<div>\n",
       "<style scoped>\n",
       "    .dataframe tbody tr th:only-of-type {\n",
       "        vertical-align: middle;\n",
       "    }\n",
       "\n",
       "    .dataframe tbody tr th {\n",
       "        vertical-align: top;\n",
       "    }\n",
       "\n",
       "    .dataframe thead th {\n",
       "        text-align: right;\n",
       "    }\n",
       "</style>\n",
       "<table border=\"1\" class=\"dataframe\">\n",
       "  <thead>\n",
       "    <tr style=\"text-align: right;\">\n",
       "      <th></th>\n",
       "      <th>cid</th>\n",
       "      <th>dayhours</th>\n",
       "      <th>price</th>\n",
       "      <th>room_bed</th>\n",
       "      <th>room_bath</th>\n",
       "      <th>gender</th>\n",
       "      <th>living_measure</th>\n",
       "      <th>lot_measure</th>\n",
       "      <th>ceil</th>\n",
       "      <th>coast</th>\n",
       "      <th>...</th>\n",
       "      <th>basement</th>\n",
       "      <th>yr_built</th>\n",
       "      <th>yr_renovated</th>\n",
       "      <th>zipcode</th>\n",
       "      <th>lat</th>\n",
       "      <th>long</th>\n",
       "      <th>living_measure15</th>\n",
       "      <th>lot_measure15</th>\n",
       "      <th>furnished</th>\n",
       "      <th>total_area</th>\n",
       "    </tr>\n",
       "  </thead>\n",
       "  <tbody>\n",
       "    <tr>\n",
       "      <th>0</th>\n",
       "      <td>3876100940</td>\n",
       "      <td>20150427T000000</td>\n",
       "      <td>600000</td>\n",
       "      <td>4.0</td>\n",
       "      <td>1.75</td>\n",
       "      <td>Female</td>\n",
       "      <td>3050.0</td>\n",
       "      <td>9440.0</td>\n",
       "      <td>1</td>\n",
       "      <td>0</td>\n",
       "      <td>...</td>\n",
       "      <td>1250.0</td>\n",
       "      <td>1966</td>\n",
       "      <td>0</td>\n",
       "      <td>98034</td>\n",
       "      <td>47.7228</td>\n",
       "      <td>-122.183</td>\n",
       "      <td>2020.0</td>\n",
       "      <td>8660.0</td>\n",
       "      <td>0.0</td>\n",
       "      <td>12490</td>\n",
       "    </tr>\n",
       "    <tr>\n",
       "      <th>1</th>\n",
       "      <td>3145600250</td>\n",
       "      <td>20150317T000000</td>\n",
       "      <td>190000</td>\n",
       "      <td>2.0</td>\n",
       "      <td>1.00</td>\n",
       "      <td>Male</td>\n",
       "      <td>670.0</td>\n",
       "      <td>3101.0</td>\n",
       "      <td>1</td>\n",
       "      <td>0</td>\n",
       "      <td>...</td>\n",
       "      <td>0.0</td>\n",
       "      <td>1948</td>\n",
       "      <td>0</td>\n",
       "      <td>98118</td>\n",
       "      <td>47.5546</td>\n",
       "      <td>-122.274</td>\n",
       "      <td>1660.0</td>\n",
       "      <td>4100.0</td>\n",
       "      <td>0.0</td>\n",
       "      <td>3771</td>\n",
       "    </tr>\n",
       "    <tr>\n",
       "      <th>2</th>\n",
       "      <td>7129303070</td>\n",
       "      <td>20140820T000000</td>\n",
       "      <td>735000</td>\n",
       "      <td>4.0</td>\n",
       "      <td>2.75</td>\n",
       "      <td>Female</td>\n",
       "      <td>3040.0</td>\n",
       "      <td>2415.0</td>\n",
       "      <td>2</td>\n",
       "      <td>1</td>\n",
       "      <td>...</td>\n",
       "      <td>0.0</td>\n",
       "      <td>1966</td>\n",
       "      <td>0</td>\n",
       "      <td>98118</td>\n",
       "      <td>47.5188</td>\n",
       "      <td>-122.256</td>\n",
       "      <td>2620.0</td>\n",
       "      <td>2433.0</td>\n",
       "      <td>0.0</td>\n",
       "      <td>5455</td>\n",
       "    </tr>\n",
       "    <tr>\n",
       "      <th>3</th>\n",
       "      <td>7338220280</td>\n",
       "      <td>20141010T000000</td>\n",
       "      <td>257000</td>\n",
       "      <td>3.0</td>\n",
       "      <td>2.50</td>\n",
       "      <td>Male</td>\n",
       "      <td>1740.0</td>\n",
       "      <td>3721.0</td>\n",
       "      <td>2</td>\n",
       "      <td>0</td>\n",
       "      <td>...</td>\n",
       "      <td>0.0</td>\n",
       "      <td>2009</td>\n",
       "      <td>0</td>\n",
       "      <td>98002</td>\n",
       "      <td>47.3363</td>\n",
       "      <td>-122.213</td>\n",
       "      <td>2030.0</td>\n",
       "      <td>3794.0</td>\n",
       "      <td>0.0</td>\n",
       "      <td>5461</td>\n",
       "    </tr>\n",
       "    <tr>\n",
       "      <th>4</th>\n",
       "      <td>7950300670</td>\n",
       "      <td>20150218T000000</td>\n",
       "      <td>450000</td>\n",
       "      <td>2.0</td>\n",
       "      <td>1.00</td>\n",
       "      <td>Female</td>\n",
       "      <td>1120.0</td>\n",
       "      <td>4590.0</td>\n",
       "      <td>1</td>\n",
       "      <td>0</td>\n",
       "      <td>...</td>\n",
       "      <td>0.0</td>\n",
       "      <td>1924</td>\n",
       "      <td>0</td>\n",
       "      <td>98118</td>\n",
       "      <td>47.5663</td>\n",
       "      <td>-122.285</td>\n",
       "      <td>1120.0</td>\n",
       "      <td>5100.0</td>\n",
       "      <td>0.0</td>\n",
       "      <td>5710</td>\n",
       "    </tr>\n",
       "  </tbody>\n",
       "</table>\n",
       "<p>5 rows × 24 columns</p>\n",
       "</div>"
      ],
      "text/plain": [
       "          cid         dayhours   price  room_bed  room_bath  gender  \\\n",
       "0  3876100940  20150427T000000  600000       4.0       1.75  Female   \n",
       "1  3145600250  20150317T000000  190000       2.0       1.00    Male   \n",
       "2  7129303070  20140820T000000  735000       4.0       2.75  Female   \n",
       "3  7338220280  20141010T000000  257000       3.0       2.50    Male   \n",
       "4  7950300670  20150218T000000  450000       2.0       1.00  Female   \n",
       "\n",
       "   living_measure  lot_measure ceil coast  ...  basement yr_built  \\\n",
       "0          3050.0       9440.0    1     0  ...    1250.0     1966   \n",
       "1           670.0       3101.0    1     0  ...       0.0     1948   \n",
       "2          3040.0       2415.0    2     1  ...       0.0     1966   \n",
       "3          1740.0       3721.0    2     0  ...       0.0     2009   \n",
       "4          1120.0       4590.0    1     0  ...       0.0     1924   \n",
       "\n",
       "   yr_renovated  zipcode      lat     long  living_measure15  lot_measure15  \\\n",
       "0             0    98034  47.7228 -122.183            2020.0         8660.0   \n",
       "1             0    98118  47.5546 -122.274            1660.0         4100.0   \n",
       "2             0    98118  47.5188 -122.256            2620.0         2433.0   \n",
       "3             0    98002  47.3363 -122.213            2030.0         3794.0   \n",
       "4             0    98118  47.5663 -122.285            1120.0         5100.0   \n",
       "\n",
       "   furnished total_area  \n",
       "0        0.0      12490  \n",
       "1        0.0       3771  \n",
       "2        0.0       5455  \n",
       "3        0.0       5461  \n",
       "4        0.0       5710  \n",
       "\n",
       "[5 rows x 24 columns]"
      ]
     },
     "execution_count": 2,
     "metadata": {},
     "output_type": "execute_result"
    }
   ],
   "source": [
    "data = pd.read_excel(\"innercity.xlsx\")\n",
    "data.head()"
   ]
  },
  {
   "cell_type": "code",
   "execution_count": 3,
   "id": "7bffaeb7",
   "metadata": {},
   "outputs": [
    {
     "name": "stdout",
     "output_type": "stream",
     "text": [
      "<class 'pandas.core.frame.DataFrame'>\n",
      "RangeIndex: 21613 entries, 0 to 21612\n",
      "Data columns (total 24 columns):\n",
      " #   Column            Non-Null Count  Dtype  \n",
      "---  ------            --------------  -----  \n",
      " 0   cid               21613 non-null  int64  \n",
      " 1   dayhours          21613 non-null  object \n",
      " 2   price             21613 non-null  int64  \n",
      " 3   room_bed          21505 non-null  float64\n",
      " 4   room_bath         21505 non-null  float64\n",
      " 5   gender            21613 non-null  object \n",
      " 6   living_measure    21596 non-null  float64\n",
      " 7   lot_measure       21571 non-null  float64\n",
      " 8   ceil              21571 non-null  object \n",
      " 9   coast             21612 non-null  object \n",
      " 10  sight             21556 non-null  float64\n",
      " 11  condition         21556 non-null  object \n",
      " 12  quality           21612 non-null  float64\n",
      " 13  ceil_measure      21612 non-null  float64\n",
      " 14  basement          21612 non-null  float64\n",
      " 15  yr_built          21612 non-null  object \n",
      " 16  yr_renovated      21613 non-null  int64  \n",
      " 17  zipcode           21613 non-null  int64  \n",
      " 18  lat               21613 non-null  float64\n",
      " 19  long              21613 non-null  object \n",
      " 20  living_measure15  21447 non-null  float64\n",
      " 21  lot_measure15     21584 non-null  float64\n",
      " 22  furnished         21584 non-null  float64\n",
      " 23  total_area        21584 non-null  object \n",
      "dtypes: float64(12), int64(4), object(8)\n",
      "memory usage: 4.0+ MB\n"
     ]
    }
   ],
   "source": [
    "data.info()"
   ]
  },
  {
   "cell_type": "markdown",
   "id": "832db654",
   "metadata": {},
   "source": [
    "# Dataset Cleaning"
   ]
  },
  {
   "cell_type": "code",
   "execution_count": 4,
   "id": "92b06638",
   "metadata": {},
   "outputs": [],
   "source": [
    "data = data[~data.apply(lambda row: row.astype(str).str.contains('$', regex=False)).any(axis=1)]"
   ]
  },
  {
   "cell_type": "code",
   "execution_count": 5,
   "id": "a2472648",
   "metadata": {},
   "outputs": [
    {
     "data": {
      "text/plain": [
       "cid                   0\n",
       "dayhours              0\n",
       "price                 0\n",
       "room_bed             66\n",
       "room_bath            66\n",
       "gender                0\n",
       "living_measure       17\n",
       "lot_measure          42\n",
       "ceil                 42\n",
       "coast                 1\n",
       "sight                57\n",
       "condition            57\n",
       "quality               1\n",
       "ceil_measure          1\n",
       "basement              1\n",
       "yr_built              1\n",
       "yr_renovated          0\n",
       "zipcode               0\n",
       "lat                   0\n",
       "long                  0\n",
       "living_measure15    124\n",
       "lot_measure15        29\n",
       "furnished            29\n",
       "total_area           29\n",
       "dtype: int64"
      ]
     },
     "execution_count": 5,
     "metadata": {},
     "output_type": "execute_result"
    }
   ],
   "source": [
    "# to check the number of null values \n",
    "pd.isnull(data).sum()"
   ]
  },
  {
   "cell_type": "code",
   "execution_count": 6,
   "id": "f56cd648",
   "metadata": {},
   "outputs": [],
   "source": [
    "# Removing all Null Values\n",
    "data = data.dropna()"
   ]
  },
  {
   "cell_type": "markdown",
   "id": "995aad4c",
   "metadata": {},
   "source": [
    "# Convert 'dayhours' to datetime"
   ]
  },
  {
   "cell_type": "code",
   "execution_count": 7,
   "id": "3f7475ce",
   "metadata": {},
   "outputs": [],
   "source": [
    "data['dayhours'] = pd.to_datetime(data['dayhours'])\n",
    "\n",
    "data['year'] = data['dayhours'].dt.year\n",
    "data['month'] = data['dayhours'].dt.month\n",
    "data['day'] = data['dayhours'].dt.day\n",
    "data['hour'] = data['dayhours'].dt.hour"
   ]
  },
  {
   "cell_type": "code",
   "execution_count": 8,
   "id": "1f3efac2",
   "metadata": {},
   "outputs": [],
   "source": [
    "# Remove the original 'dayhours' column\n",
    "data = data.drop(columns=['dayhours'])"
   ]
  },
  {
   "cell_type": "code",
   "execution_count": 9,
   "id": "5b42e9b0",
   "metadata": {},
   "outputs": [],
   "source": [
    "# Drop 'cid' column\n",
    "data = data.drop(columns=['cid'])"
   ]
  },
  {
   "cell_type": "code",
   "execution_count": 10,
   "id": "3da82813",
   "metadata": {},
   "outputs": [
    {
     "data": {
      "text/html": [
       "<div>\n",
       "<style scoped>\n",
       "    .dataframe tbody tr th:only-of-type {\n",
       "        vertical-align: middle;\n",
       "    }\n",
       "\n",
       "    .dataframe tbody tr th {\n",
       "        vertical-align: top;\n",
       "    }\n",
       "\n",
       "    .dataframe thead th {\n",
       "        text-align: right;\n",
       "    }\n",
       "</style>\n",
       "<table border=\"1\" class=\"dataframe\">\n",
       "  <thead>\n",
       "    <tr style=\"text-align: right;\">\n",
       "      <th></th>\n",
       "      <th>price</th>\n",
       "      <th>room_bed</th>\n",
       "      <th>room_bath</th>\n",
       "      <th>gender</th>\n",
       "      <th>living_measure</th>\n",
       "      <th>lot_measure</th>\n",
       "      <th>ceil</th>\n",
       "      <th>coast</th>\n",
       "      <th>sight</th>\n",
       "      <th>condition</th>\n",
       "      <th>...</th>\n",
       "      <th>lat</th>\n",
       "      <th>long</th>\n",
       "      <th>living_measure15</th>\n",
       "      <th>lot_measure15</th>\n",
       "      <th>furnished</th>\n",
       "      <th>total_area</th>\n",
       "      <th>year</th>\n",
       "      <th>month</th>\n",
       "      <th>day</th>\n",
       "      <th>hour</th>\n",
       "    </tr>\n",
       "  </thead>\n",
       "  <tbody>\n",
       "    <tr>\n",
       "      <th>0</th>\n",
       "      <td>600000</td>\n",
       "      <td>4.0</td>\n",
       "      <td>1.75</td>\n",
       "      <td>Female</td>\n",
       "      <td>3050.0</td>\n",
       "      <td>9440.0</td>\n",
       "      <td>1</td>\n",
       "      <td>0</td>\n",
       "      <td>0.0</td>\n",
       "      <td>3</td>\n",
       "      <td>...</td>\n",
       "      <td>47.7228</td>\n",
       "      <td>-122.183</td>\n",
       "      <td>2020.0</td>\n",
       "      <td>8660.0</td>\n",
       "      <td>0.0</td>\n",
       "      <td>12490</td>\n",
       "      <td>2015</td>\n",
       "      <td>4</td>\n",
       "      <td>27</td>\n",
       "      <td>0</td>\n",
       "    </tr>\n",
       "    <tr>\n",
       "      <th>1</th>\n",
       "      <td>190000</td>\n",
       "      <td>2.0</td>\n",
       "      <td>1.00</td>\n",
       "      <td>Male</td>\n",
       "      <td>670.0</td>\n",
       "      <td>3101.0</td>\n",
       "      <td>1</td>\n",
       "      <td>0</td>\n",
       "      <td>0.0</td>\n",
       "      <td>4</td>\n",
       "      <td>...</td>\n",
       "      <td>47.5546</td>\n",
       "      <td>-122.274</td>\n",
       "      <td>1660.0</td>\n",
       "      <td>4100.0</td>\n",
       "      <td>0.0</td>\n",
       "      <td>3771</td>\n",
       "      <td>2015</td>\n",
       "      <td>3</td>\n",
       "      <td>17</td>\n",
       "      <td>0</td>\n",
       "    </tr>\n",
       "    <tr>\n",
       "      <th>2</th>\n",
       "      <td>735000</td>\n",
       "      <td>4.0</td>\n",
       "      <td>2.75</td>\n",
       "      <td>Female</td>\n",
       "      <td>3040.0</td>\n",
       "      <td>2415.0</td>\n",
       "      <td>2</td>\n",
       "      <td>1</td>\n",
       "      <td>4.0</td>\n",
       "      <td>3</td>\n",
       "      <td>...</td>\n",
       "      <td>47.5188</td>\n",
       "      <td>-122.256</td>\n",
       "      <td>2620.0</td>\n",
       "      <td>2433.0</td>\n",
       "      <td>0.0</td>\n",
       "      <td>5455</td>\n",
       "      <td>2014</td>\n",
       "      <td>8</td>\n",
       "      <td>20</td>\n",
       "      <td>0</td>\n",
       "    </tr>\n",
       "    <tr>\n",
       "      <th>3</th>\n",
       "      <td>257000</td>\n",
       "      <td>3.0</td>\n",
       "      <td>2.50</td>\n",
       "      <td>Male</td>\n",
       "      <td>1740.0</td>\n",
       "      <td>3721.0</td>\n",
       "      <td>2</td>\n",
       "      <td>0</td>\n",
       "      <td>0.0</td>\n",
       "      <td>3</td>\n",
       "      <td>...</td>\n",
       "      <td>47.3363</td>\n",
       "      <td>-122.213</td>\n",
       "      <td>2030.0</td>\n",
       "      <td>3794.0</td>\n",
       "      <td>0.0</td>\n",
       "      <td>5461</td>\n",
       "      <td>2014</td>\n",
       "      <td>10</td>\n",
       "      <td>10</td>\n",
       "      <td>0</td>\n",
       "    </tr>\n",
       "    <tr>\n",
       "      <th>4</th>\n",
       "      <td>450000</td>\n",
       "      <td>2.0</td>\n",
       "      <td>1.00</td>\n",
       "      <td>Female</td>\n",
       "      <td>1120.0</td>\n",
       "      <td>4590.0</td>\n",
       "      <td>1</td>\n",
       "      <td>0</td>\n",
       "      <td>0.0</td>\n",
       "      <td>3</td>\n",
       "      <td>...</td>\n",
       "      <td>47.5663</td>\n",
       "      <td>-122.285</td>\n",
       "      <td>1120.0</td>\n",
       "      <td>5100.0</td>\n",
       "      <td>0.0</td>\n",
       "      <td>5710</td>\n",
       "      <td>2015</td>\n",
       "      <td>2</td>\n",
       "      <td>18</td>\n",
       "      <td>0</td>\n",
       "    </tr>\n",
       "  </tbody>\n",
       "</table>\n",
       "<p>5 rows × 26 columns</p>\n",
       "</div>"
      ],
      "text/plain": [
       "    price  room_bed  room_bath  gender  living_measure  lot_measure ceil  \\\n",
       "0  600000       4.0       1.75  Female          3050.0       9440.0    1   \n",
       "1  190000       2.0       1.00    Male           670.0       3101.0    1   \n",
       "2  735000       4.0       2.75  Female          3040.0       2415.0    2   \n",
       "3  257000       3.0       2.50    Male          1740.0       3721.0    2   \n",
       "4  450000       2.0       1.00  Female          1120.0       4590.0    1   \n",
       "\n",
       "  coast  sight condition  ...      lat     long  living_measure15  \\\n",
       "0     0    0.0         3  ...  47.7228 -122.183            2020.0   \n",
       "1     0    0.0         4  ...  47.5546 -122.274            1660.0   \n",
       "2     1    4.0         3  ...  47.5188 -122.256            2620.0   \n",
       "3     0    0.0         3  ...  47.3363 -122.213            2030.0   \n",
       "4     0    0.0         3  ...  47.5663 -122.285            1120.0   \n",
       "\n",
       "  lot_measure15  furnished  total_area  year month  day  hour  \n",
       "0        8660.0        0.0       12490  2015     4   27     0  \n",
       "1        4100.0        0.0        3771  2015     3   17     0  \n",
       "2        2433.0        0.0        5455  2014     8   20     0  \n",
       "3        3794.0        0.0        5461  2014    10   10     0  \n",
       "4        5100.0        0.0        5710  2015     2   18     0  \n",
       "\n",
       "[5 rows x 26 columns]"
      ]
     },
     "execution_count": 10,
     "metadata": {},
     "output_type": "execute_result"
    }
   ],
   "source": [
    "data.head()"
   ]
  },
  {
   "cell_type": "markdown",
   "id": "0b735887",
   "metadata": {},
   "source": [
    "# Check the duplicate values if any"
   ]
  },
  {
   "cell_type": "code",
   "execution_count": 11,
   "id": "4c23de32",
   "metadata": {},
   "outputs": [
    {
     "name": "stdout",
     "output_type": "stream",
     "text": [
      "Empty DataFrame\n",
      "Columns: [price, room_bed, room_bath, gender, living_measure, lot_measure, ceil, coast, sight, condition, quality, ceil_measure, basement, yr_built, yr_renovated, zipcode, lat, long, living_measure15, lot_measure15, furnished, total_area, year, month, day, hour]\n",
      "Index: []\n",
      "\n",
      "[0 rows x 26 columns]\n"
     ]
    }
   ],
   "source": [
    "# Find and display duplicate rows based on all columns\n",
    "duplicates = data[data.duplicated(keep=False)]\n",
    "print(duplicates)"
   ]
  },
  {
   "cell_type": "code",
   "execution_count": 12,
   "id": "dfa1114c",
   "metadata": {},
   "outputs": [
    {
     "data": {
      "text/html": [
       "<div>\n",
       "<style scoped>\n",
       "    .dataframe tbody tr th:only-of-type {\n",
       "        vertical-align: middle;\n",
       "    }\n",
       "\n",
       "    .dataframe tbody tr th {\n",
       "        vertical-align: top;\n",
       "    }\n",
       "\n",
       "    .dataframe thead th {\n",
       "        text-align: right;\n",
       "    }\n",
       "</style>\n",
       "<table border=\"1\" class=\"dataframe\">\n",
       "  <thead>\n",
       "    <tr style=\"text-align: right;\">\n",
       "      <th></th>\n",
       "      <th>price</th>\n",
       "      <th>room_bed</th>\n",
       "      <th>room_bath</th>\n",
       "      <th>living_measure</th>\n",
       "      <th>lot_measure</th>\n",
       "      <th>sight</th>\n",
       "      <th>quality</th>\n",
       "      <th>ceil_measure</th>\n",
       "      <th>basement</th>\n",
       "      <th>yr_renovated</th>\n",
       "      <th>zipcode</th>\n",
       "      <th>lat</th>\n",
       "      <th>living_measure15</th>\n",
       "      <th>lot_measure15</th>\n",
       "      <th>furnished</th>\n",
       "      <th>year</th>\n",
       "      <th>month</th>\n",
       "      <th>day</th>\n",
       "      <th>hour</th>\n",
       "    </tr>\n",
       "  </thead>\n",
       "  <tbody>\n",
       "    <tr>\n",
       "      <th>count</th>\n",
       "      <td>2.128800e+04</td>\n",
       "      <td>21288.000000</td>\n",
       "      <td>21288.000000</td>\n",
       "      <td>21288.000000</td>\n",
       "      <td>2.128800e+04</td>\n",
       "      <td>21288.000000</td>\n",
       "      <td>21288.000000</td>\n",
       "      <td>21288.000000</td>\n",
       "      <td>21288.000000</td>\n",
       "      <td>21288.000000</td>\n",
       "      <td>21288.000000</td>\n",
       "      <td>21288.000000</td>\n",
       "      <td>21288.000000</td>\n",
       "      <td>21288.000000</td>\n",
       "      <td>21288.000000</td>\n",
       "      <td>21288.000000</td>\n",
       "      <td>21288.000000</td>\n",
       "      <td>21288.000000</td>\n",
       "      <td>21288.0</td>\n",
       "    </tr>\n",
       "    <tr>\n",
       "      <th>mean</th>\n",
       "      <td>5.399826e+05</td>\n",
       "      <td>3.370678</td>\n",
       "      <td>2.114395</td>\n",
       "      <td>2080.089346</td>\n",
       "      <td>1.510815e+04</td>\n",
       "      <td>0.234216</td>\n",
       "      <td>7.657976</td>\n",
       "      <td>1788.949267</td>\n",
       "      <td>291.140079</td>\n",
       "      <td>83.721768</td>\n",
       "      <td>98077.916808</td>\n",
       "      <td>47.559996</td>\n",
       "      <td>1987.143414</td>\n",
       "      <td>12761.672773</td>\n",
       "      <td>0.197059</td>\n",
       "      <td>2014.323046</td>\n",
       "      <td>6.571308</td>\n",
       "      <td>15.682497</td>\n",
       "      <td>0.0</td>\n",
       "    </tr>\n",
       "    <tr>\n",
       "      <th>std</th>\n",
       "      <td>3.656028e+05</td>\n",
       "      <td>0.930123</td>\n",
       "      <td>0.768666</td>\n",
       "      <td>917.696381</td>\n",
       "      <td>4.142870e+04</td>\n",
       "      <td>0.765875</td>\n",
       "      <td>1.176386</td>\n",
       "      <td>827.586143</td>\n",
       "      <td>442.475889</td>\n",
       "      <td>400.127640</td>\n",
       "      <td>53.514731</td>\n",
       "      <td>0.138578</td>\n",
       "      <td>685.795270</td>\n",
       "      <td>27254.999989</td>\n",
       "      <td>0.397787</td>\n",
       "      <td>0.467651</td>\n",
       "      <td>3.114587</td>\n",
       "      <td>8.631272</td>\n",
       "      <td>0.0</td>\n",
       "    </tr>\n",
       "    <tr>\n",
       "      <th>min</th>\n",
       "      <td>7.500000e+04</td>\n",
       "      <td>0.000000</td>\n",
       "      <td>0.000000</td>\n",
       "      <td>290.000000</td>\n",
       "      <td>5.200000e+02</td>\n",
       "      <td>0.000000</td>\n",
       "      <td>1.000000</td>\n",
       "      <td>290.000000</td>\n",
       "      <td>0.000000</td>\n",
       "      <td>0.000000</td>\n",
       "      <td>98001.000000</td>\n",
       "      <td>47.155900</td>\n",
       "      <td>399.000000</td>\n",
       "      <td>651.000000</td>\n",
       "      <td>0.000000</td>\n",
       "      <td>2014.000000</td>\n",
       "      <td>1.000000</td>\n",
       "      <td>1.000000</td>\n",
       "      <td>0.0</td>\n",
       "    </tr>\n",
       "    <tr>\n",
       "      <th>25%</th>\n",
       "      <td>3.210202e+05</td>\n",
       "      <td>3.000000</td>\n",
       "      <td>1.750000</td>\n",
       "      <td>1430.000000</td>\n",
       "      <td>5.040000e+03</td>\n",
       "      <td>0.000000</td>\n",
       "      <td>7.000000</td>\n",
       "      <td>1190.000000</td>\n",
       "      <td>0.000000</td>\n",
       "      <td>0.000000</td>\n",
       "      <td>98033.000000</td>\n",
       "      <td>47.470675</td>\n",
       "      <td>1490.000000</td>\n",
       "      <td>5100.000000</td>\n",
       "      <td>0.000000</td>\n",
       "      <td>2014.000000</td>\n",
       "      <td>4.000000</td>\n",
       "      <td>8.000000</td>\n",
       "      <td>0.0</td>\n",
       "    </tr>\n",
       "    <tr>\n",
       "      <th>50%</th>\n",
       "      <td>4.500000e+05</td>\n",
       "      <td>3.000000</td>\n",
       "      <td>2.250000</td>\n",
       "      <td>1910.000000</td>\n",
       "      <td>7.620000e+03</td>\n",
       "      <td>0.000000</td>\n",
       "      <td>7.000000</td>\n",
       "      <td>1560.000000</td>\n",
       "      <td>0.000000</td>\n",
       "      <td>0.000000</td>\n",
       "      <td>98065.000000</td>\n",
       "      <td>47.571700</td>\n",
       "      <td>1840.000000</td>\n",
       "      <td>7620.000000</td>\n",
       "      <td>0.000000</td>\n",
       "      <td>2014.000000</td>\n",
       "      <td>6.000000</td>\n",
       "      <td>16.000000</td>\n",
       "      <td>0.0</td>\n",
       "    </tr>\n",
       "    <tr>\n",
       "      <th>75%</th>\n",
       "      <td>6.450000e+05</td>\n",
       "      <td>4.000000</td>\n",
       "      <td>2.500000</td>\n",
       "      <td>2550.000000</td>\n",
       "      <td>1.068250e+04</td>\n",
       "      <td>0.000000</td>\n",
       "      <td>8.000000</td>\n",
       "      <td>2210.000000</td>\n",
       "      <td>560.000000</td>\n",
       "      <td>0.000000</td>\n",
       "      <td>98118.000000</td>\n",
       "      <td>47.677925</td>\n",
       "      <td>2360.000000</td>\n",
       "      <td>10083.000000</td>\n",
       "      <td>0.000000</td>\n",
       "      <td>2015.000000</td>\n",
       "      <td>9.000000</td>\n",
       "      <td>23.000000</td>\n",
       "      <td>0.0</td>\n",
       "    </tr>\n",
       "    <tr>\n",
       "      <th>max</th>\n",
       "      <td>7.700000e+06</td>\n",
       "      <td>33.000000</td>\n",
       "      <td>8.000000</td>\n",
       "      <td>13540.000000</td>\n",
       "      <td>1.651359e+06</td>\n",
       "      <td>4.000000</td>\n",
       "      <td>13.000000</td>\n",
       "      <td>9410.000000</td>\n",
       "      <td>4820.000000</td>\n",
       "      <td>2015.000000</td>\n",
       "      <td>98199.000000</td>\n",
       "      <td>47.777600</td>\n",
       "      <td>6210.000000</td>\n",
       "      <td>871200.000000</td>\n",
       "      <td>1.000000</td>\n",
       "      <td>2015.000000</td>\n",
       "      <td>12.000000</td>\n",
       "      <td>31.000000</td>\n",
       "      <td>0.0</td>\n",
       "    </tr>\n",
       "  </tbody>\n",
       "</table>\n",
       "</div>"
      ],
      "text/plain": [
       "              price      room_bed     room_bath  living_measure   lot_measure  \\\n",
       "count  2.128800e+04  21288.000000  21288.000000    21288.000000  2.128800e+04   \n",
       "mean   5.399826e+05      3.370678      2.114395     2080.089346  1.510815e+04   \n",
       "std    3.656028e+05      0.930123      0.768666      917.696381  4.142870e+04   \n",
       "min    7.500000e+04      0.000000      0.000000      290.000000  5.200000e+02   \n",
       "25%    3.210202e+05      3.000000      1.750000     1430.000000  5.040000e+03   \n",
       "50%    4.500000e+05      3.000000      2.250000     1910.000000  7.620000e+03   \n",
       "75%    6.450000e+05      4.000000      2.500000     2550.000000  1.068250e+04   \n",
       "max    7.700000e+06     33.000000      8.000000    13540.000000  1.651359e+06   \n",
       "\n",
       "              sight       quality  ceil_measure      basement  yr_renovated  \\\n",
       "count  21288.000000  21288.000000  21288.000000  21288.000000  21288.000000   \n",
       "mean       0.234216      7.657976   1788.949267    291.140079     83.721768   \n",
       "std        0.765875      1.176386    827.586143    442.475889    400.127640   \n",
       "min        0.000000      1.000000    290.000000      0.000000      0.000000   \n",
       "25%        0.000000      7.000000   1190.000000      0.000000      0.000000   \n",
       "50%        0.000000      7.000000   1560.000000      0.000000      0.000000   \n",
       "75%        0.000000      8.000000   2210.000000    560.000000      0.000000   \n",
       "max        4.000000     13.000000   9410.000000   4820.000000   2015.000000   \n",
       "\n",
       "            zipcode           lat  living_measure15  lot_measure15  \\\n",
       "count  21288.000000  21288.000000      21288.000000   21288.000000   \n",
       "mean   98077.916808     47.559996       1987.143414   12761.672773   \n",
       "std       53.514731      0.138578        685.795270   27254.999989   \n",
       "min    98001.000000     47.155900        399.000000     651.000000   \n",
       "25%    98033.000000     47.470675       1490.000000    5100.000000   \n",
       "50%    98065.000000     47.571700       1840.000000    7620.000000   \n",
       "75%    98118.000000     47.677925       2360.000000   10083.000000   \n",
       "max    98199.000000     47.777600       6210.000000  871200.000000   \n",
       "\n",
       "          furnished          year         month           day     hour  \n",
       "count  21288.000000  21288.000000  21288.000000  21288.000000  21288.0  \n",
       "mean       0.197059   2014.323046      6.571308     15.682497      0.0  \n",
       "std        0.397787      0.467651      3.114587      8.631272      0.0  \n",
       "min        0.000000   2014.000000      1.000000      1.000000      0.0  \n",
       "25%        0.000000   2014.000000      4.000000      8.000000      0.0  \n",
       "50%        0.000000   2014.000000      6.000000     16.000000      0.0  \n",
       "75%        0.000000   2015.000000      9.000000     23.000000      0.0  \n",
       "max        1.000000   2015.000000     12.000000     31.000000      0.0  "
      ]
     },
     "execution_count": 12,
     "metadata": {},
     "output_type": "execute_result"
    }
   ],
   "source": [
    "data.describe()"
   ]
  },
  {
   "cell_type": "markdown",
   "id": "21130b9a",
   "metadata": {},
   "source": [
    "# EDA (Exploratory Data Analysis)"
   ]
  },
  {
   "cell_type": "markdown",
   "id": "2f425cd6",
   "metadata": {},
   "source": [
    "## Visualize the distribution of the target variable 'price'"
   ]
  },
  {
   "cell_type": "code",
   "execution_count": 13,
   "id": "64241b41",
   "metadata": {},
   "outputs": [
    {
     "data": {
      "image/png": "[encoded data removed]",
      "text/plain": [
       "<Figure size 800x600 with 1 Axes>"
      ]
     },
     "metadata": {},
     "output_type": "display_data"
    }
   ],
   "source": [
    "living_measure = data['living_measure']\n",
    "price = data['price']\n",
    "\n",
    "# Create scatter plot\n",
    "plt.figure(figsize=(8, 6))\n",
    "plt.scatter(living_measure, price, alpha=0.5)\n",
    "plt.title('Scatter Plot of Living Measure vs. Price')\n",
    "plt.xlabel('Living Measure')\n",
    "plt.ylabel('Price')\n",
    "plt.grid(True)\n",
    "plt.show()\n"
   ]
  },
  {
   "cell_type": "code",
   "execution_count": 14,
   "id": "afd7b027",
   "metadata": {},
   "outputs": [
    {
     "data": {
      "image/png": "[encoded data removed]",
      "text/plain": [
       "<Figure size 800x600 with 1 Axes>"
      ]
     },
     "metadata": {},
     "output_type": "display_data"
    }
   ],
   "source": [
    "room_bed = data['room_bed']\n",
    "\n",
    "# Create histogram\n",
    "plt.figure(figsize=(8, 6))\n",
    "plt.hist(room_bed, bins=10, color='skyblue', edgecolor='black')\n",
    "plt.title('Histogram of Room Bed Distribution')\n",
    "plt.xlabel('Room Bed')\n",
    "plt.ylabel('Frequency')\n",
    "plt.grid(True)\n",
    "plt.show()\n"
   ]
  },
  {
   "cell_type": "code",
   "execution_count": 15,
   "id": "52bec497",
   "metadata": {},
   "outputs": [
    {
     "data": {
      "image/png": "[encoded data removed]",
      "text/plain": [
       "<Figure size 1000x800 with 2 Axes>"
      ]
     },
     "metadata": {},
     "output_type": "display_data"
    }
   ],
   "source": [
    "numerical_columns = ['living_measure', 'price', 'room_bed', 'room_bath', 'lot_measure', 'ceil_measure', 'coast', 'yr_built', 'yr_renovated', 'lat', 'long', 'total_area']\n",
    "corr_matrix = data[numerical_columns].corr()\n",
    "plt.figure(figsize=(10, 8))\n",
    "sns.heatmap(corr_matrix, annot=True, cmap='coolwarm', fmt=\".2f\", linewidths=0.5)\n",
    "plt.title('Correlation Heatmap')\n",
    "plt.show()"
   ]
  },
  {
   "cell_type": "markdown",
   "id": "72ba8b64",
   "metadata": {},
   "source": [
    "# Selecting Features"
   ]
  },
  {
   "cell_type": "code",
   "execution_count": 16,
   "id": "8223301f",
   "metadata": {},
   "outputs": [],
   "source": [
    "# Split the data into features (X) and the target (y)\n",
    "X = data.drop(columns=['price'])\n",
    "Y = data['price']"
   ]
  },
  {
   "cell_type": "code",
   "execution_count": 17,
   "id": "d4630714",
   "metadata": {},
   "outputs": [],
   "source": [
    "# Split the data into a training set and a testing set\n",
    "X_train, X_test, y_train, y_test = train_test_split(X, Y, test_size=0.2, random_state=42)"
   ]
  },
  {
   "cell_type": "markdown",
   "id": "dc1a8d48",
   "metadata": {},
   "source": [
    "# Model Building"
   ]
  },
  {
   "cell_type": "markdown",
   "id": "cd5315d4",
   "metadata": {},
   "source": [
    "## Applying Linear Regression"
   ]
  },
  {
   "cell_type": "code",
   "execution_count": 18,
   "id": "21891886",
   "metadata": {},
   "outputs": [
    {
     "ename": "ValueError",
     "evalue": "could not convert string to float: 'Male'",
     "output_type": "error",
     "traceback": [
      "\u001b[1;31m---------------------------------------------------------------------------\u001b[0m",
      "\u001b[1;31mValueError\u001b[0m                                Traceback (most recent call last)",
      "\u001b[1;32m~\\AppData\\Local\\Temp\\ipykernel_10064\\2899871949.py\u001b[0m in \u001b[0;36m<module>\u001b[1;34m\u001b[0m\n\u001b[0;32m      1\u001b[0m \u001b[1;31m# Create and train a Linear Regression model\u001b[0m\u001b[1;33m\u001b[0m\u001b[1;33m\u001b[0m\u001b[0m\n\u001b[0;32m      2\u001b[0m \u001b[0mmodel\u001b[0m \u001b[1;33m=\u001b[0m \u001b[0mLinearRegression\u001b[0m\u001b[1;33m(\u001b[0m\u001b[1;33m)\u001b[0m\u001b[1;33m\u001b[0m\u001b[1;33m\u001b[0m\u001b[0m\n\u001b[1;32m----> 3\u001b[1;33m \u001b[0mmodel\u001b[0m\u001b[1;33m.\u001b[0m\u001b[0mfit\u001b[0m\u001b[1;33m(\u001b[0m\u001b[0mX_train\u001b[0m\u001b[1;33m,\u001b[0m \u001b[0my_train\u001b[0m\u001b[1;33m)\u001b[0m\u001b[1;33m\u001b[0m\u001b[1;33m\u001b[0m\u001b[0m\n\u001b[0m\u001b[0;32m      4\u001b[0m \u001b[0my_pred\u001b[0m \u001b[1;33m=\u001b[0m \u001b[0mmodel\u001b[0m\u001b[1;33m.\u001b[0m\u001b[0mpredict\u001b[0m\u001b[1;33m(\u001b[0m\u001b[0mX_test\u001b[0m\u001b[1;33m)\u001b[0m\u001b[1;33m\u001b[0m\u001b[1;33m\u001b[0m\u001b[0m\n\u001b[0;32m      5\u001b[0m \u001b[0mplt\u001b[0m\u001b[1;33m.\u001b[0m\u001b[0mfigure\u001b[0m\u001b[1;33m(\u001b[0m\u001b[0mfigsize\u001b[0m\u001b[1;33m=\u001b[0m\u001b[1;33m(\u001b[0m\u001b[1;36m10\u001b[0m\u001b[1;33m,\u001b[0m \u001b[1;36m6\u001b[0m\u001b[1;33m)\u001b[0m\u001b[1;33m)\u001b[0m\u001b[1;33m\u001b[0m\u001b[1;33m\u001b[0m\u001b[0m\n",
      "\u001b[1;32m~\\anaconda3\\lib\\site-packages\\sklearn\\linear_model\\_base.py\u001b[0m in \u001b[0;36mfit\u001b[1;34m(self, X, y, sample_weight)\u001b[0m\n\u001b[0;32m    660\u001b[0m         \u001b[0maccept_sparse\u001b[0m \u001b[1;33m=\u001b[0m \u001b[1;32mFalse\u001b[0m \u001b[1;32mif\u001b[0m \u001b[0mself\u001b[0m\u001b[1;33m.\u001b[0m\u001b[0mpositive\u001b[0m \u001b[1;32melse\u001b[0m \u001b[1;33m[\u001b[0m\u001b[1;34m\"csr\"\u001b[0m\u001b[1;33m,\u001b[0m \u001b[1;34m\"csc\"\u001b[0m\u001b[1;33m,\u001b[0m \u001b[1;34m\"coo\"\u001b[0m\u001b[1;33m]\u001b[0m\u001b[1;33m\u001b[0m\u001b[1;33m\u001b[0m\u001b[0m\n\u001b[0;32m    661\u001b[0m \u001b[1;33m\u001b[0m\u001b[0m\n\u001b[1;32m--> 662\u001b[1;33m         X, y = self._validate_data(\n\u001b[0m\u001b[0;32m    663\u001b[0m             \u001b[0mX\u001b[0m\u001b[1;33m,\u001b[0m \u001b[0my\u001b[0m\u001b[1;33m,\u001b[0m \u001b[0maccept_sparse\u001b[0m\u001b[1;33m=\u001b[0m\u001b[0maccept_sparse\u001b[0m\u001b[1;33m,\u001b[0m \u001b[0my_numeric\u001b[0m\u001b[1;33m=\u001b[0m\u001b[1;32mTrue\u001b[0m\u001b[1;33m,\u001b[0m \u001b[0mmulti_output\u001b[0m\u001b[1;33m=\u001b[0m\u001b[1;32mTrue\u001b[0m\u001b[1;33m\u001b[0m\u001b[1;33m\u001b[0m\u001b[0m\n\u001b[0;32m    664\u001b[0m         )\n",
      "\u001b[1;32m~\\anaconda3\\lib\\site-packages\\sklearn\\base.py\u001b[0m in \u001b[0;36m_validate_data\u001b[1;34m(self, X, y, reset, validate_separately, **check_params)\u001b[0m\n\u001b[0;32m    579\u001b[0m                 \u001b[0my\u001b[0m \u001b[1;33m=\u001b[0m \u001b[0mcheck_array\u001b[0m\u001b[1;33m(\u001b[0m\u001b[0my\u001b[0m\u001b[1;33m,\u001b[0m \u001b[1;33m**\u001b[0m\u001b[0mcheck_y_params\u001b[0m\u001b[1;33m)\u001b[0m\u001b[1;33m\u001b[0m\u001b[1;33m\u001b[0m\u001b[0m\n\u001b[0;32m    580\u001b[0m             \u001b[1;32melse\u001b[0m\u001b[1;33m:\u001b[0m\u001b[1;33m\u001b[0m\u001b[1;33m\u001b[0m\u001b[0m\n\u001b[1;32m--> 581\u001b[1;33m                 \u001b[0mX\u001b[0m\u001b[1;33m,\u001b[0m \u001b[0my\u001b[0m \u001b[1;33m=\u001b[0m \u001b[0mcheck_X_y\u001b[0m\u001b[1;33m(\u001b[0m\u001b[0mX\u001b[0m\u001b[1;33m,\u001b[0m \u001b[0my\u001b[0m\u001b[1;33m,\u001b[0m \u001b[1;33m**\u001b[0m\u001b[0mcheck_params\u001b[0m\u001b[1;33m)\u001b[0m\u001b[1;33m\u001b[0m\u001b[1;33m\u001b[0m\u001b[0m\n\u001b[0m\u001b[0;32m    582\u001b[0m             \u001b[0mout\u001b[0m \u001b[1;33m=\u001b[0m \u001b[0mX\u001b[0m\u001b[1;33m,\u001b[0m \u001b[0my\u001b[0m\u001b[1;33m\u001b[0m\u001b[1;33m\u001b[0m\u001b[0m\n\u001b[0;32m    583\u001b[0m \u001b[1;33m\u001b[0m\u001b[0m\n",
      "\u001b[1;32m~\\anaconda3\\lib\\site-packages\\sklearn\\utils\\validation.py\u001b[0m in \u001b[0;36mcheck_X_y\u001b[1;34m(X, y, accept_sparse, accept_large_sparse, dtype, order, copy, force_all_finite, ensure_2d, allow_nd, multi_output, ensure_min_samples, ensure_min_features, y_numeric, estimator)\u001b[0m\n\u001b[0;32m    962\u001b[0m         \u001b[1;32mraise\u001b[0m \u001b[0mValueError\u001b[0m\u001b[1;33m(\u001b[0m\u001b[1;34m\"y cannot be None\"\u001b[0m\u001b[1;33m)\u001b[0m\u001b[1;33m\u001b[0m\u001b[1;33m\u001b[0m\u001b[0m\n\u001b[0;32m    963\u001b[0m \u001b[1;33m\u001b[0m\u001b[0m\n\u001b[1;32m--> 964\u001b[1;33m     X = check_array(\n\u001b[0m\u001b[0;32m    965\u001b[0m         \u001b[0mX\u001b[0m\u001b[1;33m,\u001b[0m\u001b[1;33m\u001b[0m\u001b[1;33m\u001b[0m\u001b[0m\n\u001b[0;32m    966\u001b[0m         \u001b[0maccept_sparse\u001b[0m\u001b[1;33m=\u001b[0m\u001b[0maccept_sparse\u001b[0m\u001b[1;33m,\u001b[0m\u001b[1;33m\u001b[0m\u001b[1;33m\u001b[0m\u001b[0m\n",
      "\u001b[1;32m~\\anaconda3\\lib\\site-packages\\sklearn\\utils\\validation.py\u001b[0m in \u001b[0;36mcheck_array\u001b[1;34m(array, accept_sparse, accept_large_sparse, dtype, order, copy, force_all_finite, ensure_2d, allow_nd, ensure_min_samples, ensure_min_features, estimator)\u001b[0m\n\u001b[0;32m    744\u001b[0m                     \u001b[0marray\u001b[0m \u001b[1;33m=\u001b[0m \u001b[0marray\u001b[0m\u001b[1;33m.\u001b[0m\u001b[0mastype\u001b[0m\u001b[1;33m(\u001b[0m\u001b[0mdtype\u001b[0m\u001b[1;33m,\u001b[0m \u001b[0mcasting\u001b[0m\u001b[1;33m=\u001b[0m\u001b[1;34m\"unsafe\"\u001b[0m\u001b[1;33m,\u001b[0m \u001b[0mcopy\u001b[0m\u001b[1;33m=\u001b[0m\u001b[1;32mFalse\u001b[0m\u001b[1;33m)\u001b[0m\u001b[1;33m\u001b[0m\u001b[1;33m\u001b[0m\u001b[0m\n\u001b[0;32m    745\u001b[0m                 \u001b[1;32melse\u001b[0m\u001b[1;33m:\u001b[0m\u001b[1;33m\u001b[0m\u001b[1;33m\u001b[0m\u001b[0m\n\u001b[1;32m--> 746\u001b[1;33m                     \u001b[0marray\u001b[0m \u001b[1;33m=\u001b[0m \u001b[0mnp\u001b[0m\u001b[1;33m.\u001b[0m\u001b[0masarray\u001b[0m\u001b[1;33m(\u001b[0m\u001b[0marray\u001b[0m\u001b[1;33m,\u001b[0m \u001b[0morder\u001b[0m\u001b[1;33m=\u001b[0m\u001b[0morder\u001b[0m\u001b[1;33m,\u001b[0m \u001b[0mdtype\u001b[0m\u001b[1;33m=\u001b[0m\u001b[0mdtype\u001b[0m\u001b[1;33m)\u001b[0m\u001b[1;33m\u001b[0m\u001b[1;33m\u001b[0m\u001b[0m\n\u001b[0m\u001b[0;32m    747\u001b[0m             \u001b[1;32mexcept\u001b[0m \u001b[0mComplexWarning\u001b[0m \u001b[1;32mas\u001b[0m \u001b[0mcomplex_warning\u001b[0m\u001b[1;33m:\u001b[0m\u001b[1;33m\u001b[0m\u001b[1;33m\u001b[0m\u001b[0m\n\u001b[0;32m    748\u001b[0m                 raise ValueError(\n",
      "\u001b[1;32m~\\anaconda3\\lib\\site-packages\\pandas\\core\\generic.py\u001b[0m in \u001b[0;36m__array__\u001b[1;34m(self, dtype)\u001b[0m\n\u001b[0;32m   2062\u001b[0m \u001b[1;33m\u001b[0m\u001b[0m\n\u001b[0;32m   2063\u001b[0m     \u001b[1;32mdef\u001b[0m \u001b[0m__array__\u001b[0m\u001b[1;33m(\u001b[0m\u001b[0mself\u001b[0m\u001b[1;33m,\u001b[0m \u001b[0mdtype\u001b[0m\u001b[1;33m:\u001b[0m \u001b[0mnpt\u001b[0m\u001b[1;33m.\u001b[0m\u001b[0mDTypeLike\u001b[0m \u001b[1;33m|\u001b[0m \u001b[1;32mNone\u001b[0m \u001b[1;33m=\u001b[0m \u001b[1;32mNone\u001b[0m\u001b[1;33m)\u001b[0m \u001b[1;33m->\u001b[0m \u001b[0mnp\u001b[0m\u001b[1;33m.\u001b[0m\u001b[0mndarray\u001b[0m\u001b[1;33m:\u001b[0m\u001b[1;33m\u001b[0m\u001b[1;33m\u001b[0m\u001b[0m\n\u001b[1;32m-> 2064\u001b[1;33m         \u001b[1;32mreturn\u001b[0m \u001b[0mnp\u001b[0m\u001b[1;33m.\u001b[0m\u001b[0masarray\u001b[0m\u001b[1;33m(\u001b[0m\u001b[0mself\u001b[0m\u001b[1;33m.\u001b[0m\u001b[0m_values\u001b[0m\u001b[1;33m,\u001b[0m \u001b[0mdtype\u001b[0m\u001b[1;33m=\u001b[0m\u001b[0mdtype\u001b[0m\u001b[1;33m)\u001b[0m\u001b[1;33m\u001b[0m\u001b[1;33m\u001b[0m\u001b[0m\n\u001b[0m\u001b[0;32m   2065\u001b[0m \u001b[1;33m\u001b[0m\u001b[0m\n\u001b[0;32m   2066\u001b[0m     def __array_wrap__(\n",
      "\u001b[1;31mValueError\u001b[0m: could not convert string to float: 'Male'"
     ]
    }
   ],
   "source": [
    "# Create and train a Linear Regression model\n",
    "model = LinearRegression()\n",
    "model.fit(X_train, y_train)\n",
    "y_pred = model.predict(X_test)\n",
    "plt.figure(figsize=(10, 6))\n",
    "plt.scatter(y_test, y_pred, alpha=0.5)\n",
    "plt.plot([min(y_test), max(y_test)], [min(y_test), max(y_test)], '--', color='black')\n",
    "plt.title('Actual vs. Predicted Prices (Linear Regression)')\n",
    "plt.xlabel('Actual Price')\n",
    "plt.ylabel('Predicted Price')\n",
    "plt.grid(True)\n",
    "plt.show()"
   ]
  },
  {
   "cell_type": "code",
   "execution_count": null,
   "id": "221a91b9",
   "metadata": {},
   "outputs": [],
   "source": [
    "sns.distplot((y_test-y_pred),bins=50)\n",
    "plt.title('Distplot of Linear Regression')\n",
    "plt.show()"
   ]
  },
  {
   "cell_type": "code",
   "execution_count": null,
   "id": "9bd58f25",
   "metadata": {},
   "outputs": [],
   "source": [
    "model.score(X_test, y_test)"
   ]
  },
  {
   "cell_type": "markdown",
   "id": "76c4dcf2",
   "metadata": {},
   "source": [
    "## Model Interpretation"
   ]
  },
  {
   "cell_type": "code",
   "execution_count": null,
   "id": "7e094392",
   "metadata": {
    "scrolled": false
   },
   "outputs": [],
   "source": [
    "coefficients = model.coef_\n",
    "feature_names = X.columns\n",
    "\n",
    "for feature, coef in zip(feature_names, coefficients):\n",
    "    print(f\"{feature}: {coef}\")"
   ]
  },
  {
   "cell_type": "markdown",
   "id": "e57eba5b",
   "metadata": {},
   "source": [
    "## Applying Random Forest Method"
   ]
  },
  {
   "cell_type": "code",
   "execution_count": null,
   "id": "bc4844b6",
   "metadata": {},
   "outputs": [],
   "source": [
    "from sklearn.ensemble import RandomForestRegressor\n",
    "regressor = RandomForestRegressor(n_estimators = 10, random_state = 0)\n",
    "regressor.fit(X_train,y_train)\n",
    "\n",
    "rf_predictions = regressor.predict(X_test)\n",
    "\n",
    "plt.figure(figsize=(10, 6))\n",
    "plt.scatter(y_test, rf_predictions, alpha=0.5)\n",
    "plt.plot([min(y_test), max(y_test)], [min(y_test), max(y_test)], '--', color='black')\n",
    "plt.title('Actual vs. Predicted Prices (Random Forest)')\n",
    "plt.xlabel('Actual Price')\n",
    "plt.ylabel('Predicted Price')\n",
    "plt.grid(True)\n",
    "plt.show()"
   ]
  },
  {
   "cell_type": "code",
   "execution_count": null,
   "id": "2459d296",
   "metadata": {},
   "outputs": [],
   "source": [
    "sns.distplot((y_test-y_pred),bins=50)\n",
    "plt.title('Distplot of Random Forest Model')\n",
    "plt.show()"
   ]
  },
  {
   "cell_type": "code",
   "execution_count": null,
   "id": "b0ea9320",
   "metadata": {},
   "outputs": [],
   "source": [
    "regressor.score(X_test, y_test)"
   ]
  },
  {
   "cell_type": "markdown",
   "id": "cdaf1b27",
   "metadata": {},
   "source": [
    "# Evaluation"
   ]
  },
  {
   "cell_type": "code",
   "execution_count": null,
   "id": "43a4fa45",
   "metadata": {},
   "outputs": [],
   "source": [
    "# Predict house prices on the test set\n",
    "y_pred = model.predict(X_test)"
   ]
  },
  {
   "cell_type": "code",
   "execution_count": null,
   "id": "54fcfbba",
   "metadata": {},
   "outputs": [],
   "source": [
    "# Evaluate the model using metrics\n",
    "mse = mean_squared_error(y_test, y_pred)\n",
    "r2 = r2_score(y_test, y_pred)"
   ]
  },
  {
   "cell_type": "code",
   "execution_count": null,
   "id": "66804ae8",
   "metadata": {},
   "outputs": [],
   "source": [
    "print(\"Mean Squared Error(MSE):\", mse)\n",
    "print(\"R-squared (R2) Score:\", r2)"
   ]
  },
  {
   "cell_type": "markdown",
   "id": "5778da24",
   "metadata": {},
   "source": [
    "## Model Interpretation"
   ]
  },
  {
   "cell_type": "code",
   "execution_count": null,
   "id": "4c02acac",
   "metadata": {},
   "outputs": [],
   "source": [
    "coefficients = model.coef_\n",
    "feature_names = X.columns\n",
    "\n",
    "for feature, coef in zip(feature_names, coefficients):\n",
    "    print(f\"{feature}: {coef}\")"
   ]
  },
  {
   "cell_type": "code",
   "execution_count": null,
   "id": "86304ae7",
   "metadata": {},
   "outputs": [],
   "source": [
    "# Define a dictionary for the new data point\n",
    "new_data_point = {\n",
    "    'room_bed': 3,\n",
    "    'room_bath': 2,\n",
    "    'living_measure': 1800,\n",
    "    'lot_measure': 6000,\n",
    "    'ceil': 1,\n",
    "    'coast': 0,\n",
    "    'sight': 0,\n",
    "    'condition': 4,\n",
    "    'quality': 7,\n",
    "    'ceil_measure': 1800,\n",
    "    'basement': 0,  \n",
    "    'yr_built': 1995,\n",
    "    'yr_renovated': 0,\n",
    "    'zipcode': 98034,\n",
    "    'lat': 47.7228,\n",
    "    'long': -122.183,\n",
    "    'living_measure15': 1800,\n",
    "    'lot_measure15': 6000,\n",
    "    'furnished': 0,\n",
    "    'total_area': 7800,\n",
    "    'year': 2023,\n",
    "    'month': 10,\n",
    "    'day': 15,\n",
    "    'hour': 14\n",
    "}"
   ]
  },
  {
   "cell_type": "code",
   "execution_count": null,
   "id": "b83007ba",
   "metadata": {},
   "outputs": [],
   "source": [
    "# Convert the dictionary to a DataFrame\n",
    "new_data = pd.DataFrame([new_data_point])"
   ]
  },
  {
   "cell_type": "code",
   "execution_count": null,
   "id": "d9644d07",
   "metadata": {},
   "outputs": [],
   "source": [
    "# Predict the price for the new data point using the trained model\n",
    "predicted_price = model.predict(new_data)"
   ]
  },
  {
   "cell_type": "code",
   "execution_count": null,
   "id": "c87b5c8c",
   "metadata": {},
   "outputs": [],
   "source": [
    "print(\"Predicted Price:\", predicted_price[0])"
   ]
  },
  {
   "cell_type": "markdown",
   "id": "c1f9a385",
   "metadata": {},
   "source": [
    "## The predicted price is approximately 806552.51."
   ]
  },
  {
   "cell_type": "raw",
   "id": "2f076a04",
   "metadata": {},
   "source": [
    "Price Distribution: The distribution of house prices within the dataset reveals that the majority of houses fall within a specific price range, with a few higher-priced outliers. This insight aids stakeholders in grasping the typical pricing dynamics within the market.\n",
    "\n",
    "Correlation Analysis: Through examination of the correlation matrix, we can discern features that wield significant influence over house prices. Notably, factors such as the number of bedrooms, living area size, and quality exhibit substantial correlations with house prices.\n",
    "\n",
    "Model Performance: Employing a linear regression model to forecast house prices based on the provided features, we assessed its performance using metrics like Mean Squared Error (MSE) and R-squared (R2). The model achieved an MSE of [37028618988.08703] and an R2 score of [0.691586764115364], indicative of its ability to effectively fit the data and generate precise predictions."
   ]
  },
  {
   "cell_type": "raw",
   "id": "48fec5f6",
   "metadata": {},
   "source": [
    "Feature Importance: Features like the number of bedrooms, living area size, and quality are among the most important factors affecting house prices. Stakeholders should consider these factors when assessing property values.\n",
    "\n",
    "Model Reliability: The Random Forest regression model provides a baseline for predicting house prices. However, more complex models and additional feature engineering may further improve prediction accuracy.\n",
    "\n",
    "Outlier Consideration: Outliers, such as very high-priced properties, may affect the model's generalization. Stakeholders should be aware of these outliers when using the model for pricing properties.\n",
    "\n",
    "Data Quality: Data preprocessing, including handling missing values and converting data types, is crucial for model training. Stakeholders should ensure data quality to maintain model accuracy.\n"
   ]
  }
 ],
 "metadata": {
  "kernelspec": {
   "display_name": "Python 3 (ipykernel)",
   "language": "python",
   "name": "python3"
  },
  "language_info": {
   "codemirror_mode": {
    "name": "ipython",
    "version": 3
   },
   "file_extension": ".py",
   "mimetype": "text/x-python",
   "name": "python",
   "nbconvert_exporter": "python",
   "pygments_lexer": "ipython3",
   "version": "3.9.13"
  }
 },
 "nbformat": 4,
 "nbformat_minor": 5
}
