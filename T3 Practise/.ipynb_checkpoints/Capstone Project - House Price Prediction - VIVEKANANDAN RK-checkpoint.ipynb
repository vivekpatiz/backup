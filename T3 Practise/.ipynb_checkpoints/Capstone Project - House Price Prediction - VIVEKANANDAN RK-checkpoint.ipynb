{
 "cells": [
  {
   "cell_type": "code",
   "execution_count": null,
   "id": "4424112a",
   "metadata": {},
   "outputs": [],
   "source": [
    "import pandas as pd\n",
    "import numpy as np\n",
    "import matplotlib.pyplot as plt\n",
    "import seaborn as sns\n",
    "from sklearn.model_selection import train_test_split\n",
    "from sklearn.linear_model import LinearRegression\n",
    "from sklearn.metrics import mean_squared_error, r2_score\n",
    "from sklearn.svm import SVR"
   ]
  },
  {
   "cell_type": "code",
   "execution_count": null,
   "id": "e6868dea",
   "metadata": {},
   "outputs": [],
   "source": [
    "data = pd.read_excel(\"innercity.xlsx\")\n",
    "data.head()"
   ]
  },
  {
   "cell_type": "code",
   "execution_count": null,
   "id": "7bffaeb7",
   "metadata": {},
   "outputs": [],
   "source": [
    "data.info()"
   ]
  },
  {
   "cell_type": "markdown",
   "id": "832db654",
   "metadata": {},
   "source": [
    "# Dataset Cleaning"
   ]
  },
  {
   "cell_type": "code",
   "execution_count": null,
   "id": "92b06638",
   "metadata": {},
   "outputs": [],
   "source": [
    "data = data[~data.apply(lambda row: row.astype(str).str.contains('$', regex=False)).any(axis=1)]"
   ]
  },
  {
   "cell_type": "code",
   "execution_count": null,
   "id": "a2472648",
   "metadata": {},
   "outputs": [],
   "source": [
    "# to check the number of null values \n",
    "pd.isnull(data).sum()"
   ]
  },
  {
   "cell_type": "code",
   "execution_count": null,
   "id": "f56cd648",
   "metadata": {},
   "outputs": [],
   "source": [
    "# Removing all Null Values\n",
    "data = data.dropna()"
   ]
  },
  {
   "cell_type": "markdown",
   "id": "995aad4c",
   "metadata": {},
   "source": [
    "# Convert 'dayhours' to datetime"
   ]
  },
  {
   "cell_type": "code",
   "execution_count": null,
   "id": "3f7475ce",
   "metadata": {},
   "outputs": [],
   "source": [
    "data['dayhours'] = pd.to_datetime(data['dayhours'])\n",
    "\n",
    "data['year'] = data['dayhours'].dt.year\n",
    "data['month'] = data['dayhours'].dt.month\n",
    "data['day'] = data['dayhours'].dt.day\n",
    "data['hour'] = data['dayhours'].dt.hour"
   ]
  },
  {
   "cell_type": "code",
   "execution_count": null,
   "id": "1f3efac2",
   "metadata": {},
   "outputs": [],
   "source": [
    "# Remove the original 'dayhours' column\n",
    "data = data.drop(columns=['dayhours'])"
   ]
  },
  {
   "cell_type": "code",
   "execution_count": null,
   "id": "5b42e9b0",
   "metadata": {},
   "outputs": [],
   "source": [
    "# Drop 'cid' column\n",
    "data = data.drop(columns=['cid'])"
   ]
  },
  {
   "cell_type": "code",
   "execution_count": null,
   "id": "3da82813",
   "metadata": {},
   "outputs": [],
   "source": [
    "data.head()"
   ]
  },
  {
   "cell_type": "markdown",
   "id": "0b735887",
   "metadata": {},
   "source": [
    "# Check the duplicate values if any"
   ]
  },
  {
   "cell_type": "code",
   "execution_count": null,
   "id": "4c23de32",
   "metadata": {},
   "outputs": [],
   "source": [
    "# Find and display duplicate rows based on all columns\n",
    "duplicates = data[data.duplicated(keep=False)]\n",
    "print(duplicates)"
   ]
  },
  {
   "cell_type": "code",
   "execution_count": null,
   "id": "dfa1114c",
   "metadata": {},
   "outputs": [],
   "source": [
    "data.describe()"
   ]
  },
  {
   "cell_type": "markdown",
   "id": "21130b9a",
   "metadata": {},
   "source": [
    "# EDA (Exploratory Data Analysis)"
   ]
  },
  {
   "cell_type": "markdown",
   "id": "2f425cd6",
   "metadata": {},
   "source": [
    "## Visualize the distribution of the target variable 'price'"
   ]
  },
  {
   "cell_type": "code",
   "execution_count": null,
   "id": "64241b41",
   "metadata": {},
   "outputs": [],
   "source": [
    "living_measure = data['living_measure']\n",
    "price = data['price']\n",
    "\n",
    "# Create scatter plot\n",
    "plt.figure(figsize=(8, 6))\n",
    "plt.scatter(living_measure, price, alpha=0.5)\n",
    "plt.title('Scatter Plot of Living Measure vs. Price')\n",
    "plt.xlabel('Living Measure')\n",
    "plt.ylabel('Price')\n",
    "plt.grid(True)\n",
    "plt.show()\n"
   ]
  },
  {
   "cell_type": "code",
   "execution_count": null,
   "id": "afd7b027",
   "metadata": {},
   "outputs": [],
   "source": [
    "room_bed = data['room_bed']\n",
    "\n",
    "# Create histogram\n",
    "plt.figure(figsize=(8, 6))\n",
    "plt.hist(room_bed, bins=10, color='skyblue', edgecolor='black')\n",
    "plt.title('Histogram of Room Bed Distribution')\n",
    "plt.xlabel('Room Bed')\n",
    "plt.ylabel('Frequency')\n",
    "plt.grid(True)\n",
    "plt.show()\n"
   ]
  },
  {
   "cell_type": "code",
   "execution_count": null,
   "id": "52bec497",
   "metadata": {},
   "outputs": [],
   "source": [
    "numerical_columns = ['living_measure', 'price', 'room_bed', 'room_bath', 'lot_measure', 'ceil_measure', 'coast', 'yr_built', 'yr_renovated', 'lat', 'long', 'total_area']\n",
    "corr_matrix = data[numerical_columns].corr()\n",
    "plt.figure(figsize=(10, 8))\n",
    "sns.heatmap(corr_matrix, annot=True, cmap='coolwarm', fmt=\".2f\", linewidths=0.5)\n",
    "plt.title('Correlation Heatmap')\n",
    "plt.show()"
   ]
  },
  {
   "cell_type": "markdown",
   "id": "72ba8b64",
   "metadata": {},
   "source": [
    "# Selecting Features"
   ]
  },
  {
   "cell_type": "code",
   "execution_count": null,
   "id": "8223301f",
   "metadata": {},
   "outputs": [],
   "source": [
    "# Split the data into features (X) and the target (y)\n",
    "X = data.drop(columns=['price'])\n",
    "Y = data['price']"
   ]
  },
  {
   "cell_type": "code",
   "execution_count": null,
   "id": "d4630714",
   "metadata": {},
   "outputs": [],
   "source": [
    "# Split the data into a training set and a testing set\n",
    "X_train, X_test, y_train, y_test = train_test_split(X, Y, test_size=0.2, random_state=42)"
   ]
  },
  {
   "cell_type": "markdown",
   "id": "dc1a8d48",
   "metadata": {},
   "source": [
    "# Model Building"
   ]
  },
  {
   "cell_type": "markdown",
   "id": "cd5315d4",
   "metadata": {},
   "source": [
    "## Applying Linear Regression"
   ]
  },
  {
   "cell_type": "code",
   "execution_count": null,
   "id": "21891886",
   "metadata": {},
   "outputs": [],
   "source": [
    "# Create and train a Linear Regression model\n",
    "model = LinearRegression()\n",
    "model.fit(X_train, y_train)\n",
    "y_pred = model.predict(X_test)\n",
    "plt.figure(figsize=(10, 6))\n",
    "plt.scatter(y_test, y_pred, alpha=0.5)\n",
    "plt.plot([min(y_test), max(y_test)], [min(y_test), max(y_test)], '--', color='black')\n",
    "plt.title('Actual vs. Predicted Prices (Linear Regression)')\n",
    "plt.xlabel('Actual Price')\n",
    "plt.ylabel('Predicted Price')\n",
    "plt.grid(True)\n",
    "plt.show()"
   ]
  },
  {
   "cell_type": "code",
   "execution_count": null,
   "id": "221a91b9",
   "metadata": {},
   "outputs": [],
   "source": [
    "sns.distplot((y_test-y_pred),bins=50)\n",
    "plt.title('Distplot of Linear Regression')\n",
    "plt.show()"
   ]
  },
  {
   "cell_type": "code",
   "execution_count": null,
   "id": "9bd58f25",
   "metadata": {},
   "outputs": [],
   "source": [
    "model.score(X_test, y_test)"
   ]
  },
  {
   "cell_type": "markdown",
   "id": "76c4dcf2",
   "metadata": {},
   "source": [
    "## Model Interpretation"
   ]
  },
  {
   "cell_type": "code",
   "execution_count": null,
   "id": "7e094392",
   "metadata": {
    "scrolled": false
   },
   "outputs": [],
   "source": [
    "coefficients = model.coef_\n",
    "feature_names = X.columns\n",
    "\n",
    "for feature, coef in zip(feature_names, coefficients):\n",
    "    print(f\"{feature}: {coef}\")"
   ]
  },
  {
   "cell_type": "markdown",
   "id": "e57eba5b",
   "metadata": {},
   "source": [
    "## Applying Random Forest Method"
   ]
  },
  {
   "cell_type": "code",
   "execution_count": null,
   "id": "bc4844b6",
   "metadata": {},
   "outputs": [],
   "source": [
    "from sklearn.ensemble import RandomForestRegressor\n",
    "regressor = RandomForestRegressor(n_estimators = 10, random_state = 0)\n",
    "regressor.fit(X_train,y_train)\n",
    "\n",
    "rf_predictions = regressor.predict(X_test)\n",
    "\n",
    "plt.figure(figsize=(10, 6))\n",
    "plt.scatter(y_test, rf_predictions, alpha=0.5)\n",
    "plt.plot([min(y_test), max(y_test)], [min(y_test), max(y_test)], '--', color='black')\n",
    "plt.title('Actual vs. Predicted Prices (Random Forest)')\n",
    "plt.xlabel('Actual Price')\n",
    "plt.ylabel('Predicted Price')\n",
    "plt.grid(True)\n",
    "plt.show()"
   ]
  },
  {
   "cell_type": "code",
   "execution_count": null,
   "id": "2459d296",
   "metadata": {},
   "outputs": [],
   "source": [
    "sns.distplot((y_test-y_pred),bins=50)\n",
    "plt.title('Distplot of Random Forest Model')\n",
    "plt.show()"
   ]
  },
  {
   "cell_type": "code",
   "execution_count": null,
   "id": "b0ea9320",
   "metadata": {},
   "outputs": [],
   "source": [
    "regressor.score(X_test, y_test)"
   ]
  },
  {
   "cell_type": "markdown",
   "id": "cdaf1b27",
   "metadata": {},
   "source": [
    "# Evaluation"
   ]
  },
  {
   "cell_type": "code",
   "execution_count": null,
   "id": "43a4fa45",
   "metadata": {},
   "outputs": [],
   "source": [
    "# Predict house prices on the test set\n",
    "y_pred = model.predict(X_test)"
   ]
  },
  {
   "cell_type": "code",
   "execution_count": null,
   "id": "54fcfbba",
   "metadata": {},
   "outputs": [],
   "source": [
    "# Evaluate the model using metrics\n",
    "mse = mean_squared_error(y_test, y_pred)\n",
    "r2 = r2_score(y_test, y_pred)"
   ]
  },
  {
   "cell_type": "code",
   "execution_count": null,
   "id": "66804ae8",
   "metadata": {},
   "outputs": [],
   "source": [
    "print(\"Mean Squared Error(MSE):\", mse)\n",
    "print(\"R-squared (R2) Score:\", r2)"
   ]
  },
  {
   "cell_type": "markdown",
   "id": "5778da24",
   "metadata": {},
   "source": [
    "## Model Interpretation"
   ]
  },
  {
   "cell_type": "code",
   "execution_count": null,
   "id": "4c02acac",
   "metadata": {},
   "outputs": [],
   "source": [
    "coefficients = model.coef_\n",
    "feature_names = X.columns\n",
    "\n",
    "for feature, coef in zip(feature_names, coefficients):\n",
    "    print(f\"{feature}: {coef}\")"
   ]
  },
  {
   "cell_type": "code",
   "execution_count": null,
   "id": "86304ae7",
   "metadata": {},
   "outputs": [],
   "source": [
    "# Define a dictionary for the new data point\n",
    "new_data_point = {\n",
    "    'room_bed': 3,\n",
    "    'room_bath': 2,\n",
    "    'living_measure': 1800,\n",
    "    'lot_measure': 6000,\n",
    "    'ceil': 1,\n",
    "    'coast': 0,\n",
    "    'sight': 0,\n",
    "    'condition': 4,\n",
    "    'quality': 7,\n",
    "    'ceil_measure': 1800,\n",
    "    'basement': 0,  \n",
    "    'yr_built': 1995,\n",
    "    'yr_renovated': 0,\n",
    "    'zipcode': 98034,\n",
    "    'lat': 47.7228,\n",
    "    'long': -122.183,\n",
    "    'living_measure15': 1800,\n",
    "    'lot_measure15': 6000,\n",
    "    'furnished': 0,\n",
    "    'total_area': 7800,\n",
    "    'year': 2023,\n",
    "    'month': 10,\n",
    "    'day': 15,\n",
    "    'hour': 14\n",
    "}"
   ]
  },
  {
   "cell_type": "code",
   "execution_count": null,
   "id": "b83007ba",
   "metadata": {},
   "outputs": [],
   "source": [
    "# Convert the dictionary to a DataFrame\n",
    "new_data = pd.DataFrame([new_data_point])"
   ]
  },
  {
   "cell_type": "code",
   "execution_count": null,
   "id": "d9644d07",
   "metadata": {},
   "outputs": [],
   "source": [
    "# Predict the price for the new data point using the trained model\n",
    "predicted_price = model.predict(new_data)"
   ]
  },
  {
   "cell_type": "code",
   "execution_count": null,
   "id": "c87b5c8c",
   "metadata": {},
   "outputs": [],
   "source": [
    "print(\"Predicted Price:\", predicted_price[0])"
   ]
  },
  {
   "cell_type": "markdown",
   "id": "c1f9a385",
   "metadata": {},
   "source": [
    "## The predicted price is approximately 806552.51."
   ]
  },
  {
   "cell_type": "raw",
   "id": "2f076a04",
   "metadata": {},
   "source": [
    "Price Distribution: The distribution of house prices within the dataset reveals that the majority of houses fall within a specific price range, with a few higher-priced outliers. This insight aids stakeholders in grasping the typical pricing dynamics within the market.\n",
    "\n",
    "Correlation Analysis: Through examination of the correlation matrix, we can discern features that wield significant influence over house prices. Notably, factors such as the number of bedrooms, living area size, and quality exhibit substantial correlations with house prices.\n",
    "\n",
    "Model Performance: Employing a linear regression model to forecast house prices based on the provided features, we assessed its performance using metrics like Mean Squared Error (MSE) and R-squared (R2). The model achieved an MSE of [37028618988.08703] and an R2 score of [0.691586764115364], indicative of its ability to effectively fit the data and generate precise predictions."
   ]
  },
  {
   "cell_type": "raw",
   "id": "48fec5f6",
   "metadata": {},
   "source": [
    "Feature Importance: Features like the number of bedrooms, living area size, and quality are among the most important factors affecting house prices. Stakeholders should consider these factors when assessing property values.\n",
    "\n",
    "Model Reliability: The Random Forest regression model provides a baseline for predicting house prices. However, more complex models and additional feature engineering may further improve prediction accuracy.\n",
    "\n",
    "Outlier Consideration: Outliers, such as very high-priced properties, may affect the model's generalization. Stakeholders should be aware of these outliers when using the model for pricing properties.\n",
    "\n",
    "Data Quality: Data preprocessing, including handling missing values and converting data types, is crucial for model training. Stakeholders should ensure data quality to maintain model accuracy.\n"
   ]
  }
 ],
 "metadata": {
  "kernelspec": {
   "display_name": "Python 3 (ipykernel)",
   "language": "python",
   "name": "python3"
  },
  "language_info": {
   "codemirror_mode": {
    "name": "ipython",
    "version": 3
   },
   "file_extension": ".py",
   "mimetype": "text/x-python",
   "name": "python",
   "nbconvert_exporter": "python",
   "pygments_lexer": "ipython3",
   "version": "3.9.13"
  }
 },
 "nbformat": 4,
 "nbformat_minor": 5
}
